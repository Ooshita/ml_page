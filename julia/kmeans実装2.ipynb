{
 "cells": [
  {
   "cell_type": "code",
   "execution_count": 1,
   "metadata": {},
   "outputs": [
    {
     "data": {
      "text/plain": [
       "input_data (generic function with 1 method)"
      ]
     },
     "execution_count": 1,
     "metadata": {},
     "output_type": "execute_result"
    }
   ],
   "source": [
    "function input_data()\n",
    "    parse_data1= Float64[]\n",
    "    parse_data2 = Float64[]\n",
    "    open(\"./dataset/data_1.txt\",\"r\") do fp\n",
    "        data = readlines(fp)\n",
    "        for i in 1:length(data)\n",
    "            push!(parse_data1,parse(Float64,split(data[i], \" \")[1]))\n",
    "            push!(parse_data2 ,parse(Float64,split(data[i], \" \")[2]))\n",
    "        end\n",
    "    end\n",
    "    X = [parse_data1 parse_data2]\n",
    "    return X\n",
    "end"
   ]
  },
  {
   "cell_type": "code",
   "execution_count": 2,
   "metadata": {},
   "outputs": [
    {
     "data": {
      "text/plain": [
       "300×2 Array{Float64,2}:\n",
       " -5.62534    -6.76417\n",
       " -6.21922    -5.41678\n",
       " -4.06308    -7.91013\n",
       " -4.52609    -4.15787\n",
       " -5.08887    -7.15388\n",
       " -5.32479    -3.55313\n",
       " -3.71644    -3.9373 \n",
       " -4.96026    -4.28604\n",
       " -4.80726    -4.84573\n",
       " -6.2293     -5.45225\n",
       " -4.73248    -6.07151\n",
       " -4.57423    -4.81333\n",
       " -6.91621    -5.01012\n",
       "  ⋮                  \n",
       " -0.447324    5.24562\n",
       " -0.0852852   3.57781\n",
       "  0.508129    5.74799\n",
       " -1.07802     3.90862\n",
       " -0.212547    5.04975\n",
       "  0.655446    5.78681\n",
       " -0.59045     4.85202\n",
       "  0.481862    4.43283\n",
       " -1.22335     5.85245\n",
       "  1.05789     4.09235\n",
       "  1.2708      5.64577\n",
       " -0.772036    4.3587 "
      ]
     },
     "execution_count": 2,
     "metadata": {},
     "output_type": "execute_result"
    }
   ],
   "source": [
    "X = input_data()"
   ]
  },
  {
   "cell_type": "code",
   "execution_count": null,
   "metadata": {},
   "outputs": [],
   "source": [
    "using Plots\n",
    "gr()"
   ]
  },
  {
   "cell_type": "code",
   "execution_count": null,
   "metadata": {},
   "outputs": [],
   "source": [
    "function dist(μx, μy, xx, xy)\n",
    "    return sqrt(((xx+xy)-(μx+μy))^2)\n",
    "end\n",
    "\n",
    "# クラスター数\n",
    "k = 3\n",
    "# 重心の変数．\n",
    "μx_old = Float64[]\n",
    "μy_old = Float64[]\n",
    "for i in 1:k\n",
    "    # データの端を乱数の範囲にする．\n",
    "    push!(μx_old,rand(minimum(X[:,1]):0.1:maximum(X[:,1])))\n",
    "    push!(μy_old,rand(minimum(X[:,2]):0.1:maximum(X[:,2])))\n",
    "end\n",
    "\n",
    "min = 1000000.0\n",
    "cluster = 0\n",
    "center_of_gravity_x = Float64[]\n",
    "center_of_gravity_y = Float64[]\n",
    "clusters = Int64[]\n",
    "n = length(X[:,1])\n",
    "    \n",
    "μx_new = Float64[]\n",
    "μy_new = Float64[]\n",
    "\n",
    "# 収束判定用の変数\n",
    "error = 100.0\n",
    "error_arr = Float64[]\n",
    "\n",
    "# 誤差関数が収束すれば終わり．\n",
    "while error != 0.0  \n",
    "    clusters = Int64[]\n",
    "    \n",
    "    min = 1000000.0 \n",
    "    for i in 1:n\n",
    "        # クラスタ割り当て\n",
    "        # iには全データが入る．\n",
    "        for j in 1:k\n",
    "            distance = dist(μx_old[j], μy_old[j], X[i,1],X[i,2])\n",
    "            if min > distance\n",
    "                min = distance\n",
    "                cluster = j\n",
    "            end\n",
    "        end\n",
    "        push!(clusters, cluster)\n",
    "    end\n",
    "    \n",
    "    plotdata = [X [string(i) for i=clusters];]\n",
    "    \n",
    "    # クラスタ中心の計算\n",
    "    for i in 1:k\n",
    "        cluster_len = length(findin(plotdata[:,3],[\"$i\"]))\n",
    "        for j in findin(plotdata[:,3],[\"$i\"])\n",
    "            # 重心の計算\n",
    "            push!(center_of_gravity_x,((X[j,1]) / cluster_len))\n",
    "            push!(center_of_gravity_y,((X[j,2]) / cluster_len))\n",
    "        end\n",
    "        push!(μx_new, sum(center_of_gravity_x))\n",
    "        push!(μy_new, sum(center_of_gravity_y))\n",
    "        center_of_gravity_x = Float64[]\n",
    "        center_of_gravity_y = Float64[]\n",
    "        error = dist(μx_new[i],μy_new[i],μx_old[i],μy_old[i])\n",
    "        push!(error_arr, error)\n",
    "    end\n",
    "    μx_old = μx_new\n",
    "    μy_old = μy_new\n",
    "    μx_new = Float64[]\n",
    "    μy_new = Float64[]\n",
    "end\n",
    "plotdata = [X [string(i) for i=clusters];]"
   ]
  },
  {
   "cell_type": "code",
   "execution_count": null,
   "metadata": {},
   "outputs": [],
   "source": [
    "x1_x = Float64[]\n",
    "x1_y = Float64[]\n",
    "\n",
    "one = findin(plotdata[:,3],[\"1\"])\n",
    "\n",
    "for i in one\n",
    "    for j in 1:2\n",
    "        push!(x1_x,plotdata[i,1])\n",
    "        push!(x1_y,plotdata[i,2])\n",
    "    end\n",
    "end\n",
    "\n",
    "x2_x = Float64[]\n",
    "x2_y = Float64[]\n",
    "\n",
    "two = findin(plotdata[:,3],[\"2\"])\n",
    "\n",
    "for i in two\n",
    "    for j in 1:2\n",
    "        push!(x2_x,plotdata[i,1])\n",
    "        push!(x2_y,plotdata[i,2])\n",
    "    end\n",
    "end\n",
    "\n",
    "x3_x = Float64[]\n",
    "x3_y = Float64[]\n",
    "\n",
    "three = findin(plotdata[:,3],[\"3\"])\n",
    "\n",
    "for i in three\n",
    "    for j in 1:2\n",
    "        push!(x3_x,plotdata[i,1])\n",
    "        push!(x3_y,plotdata[i,2])\n",
    "    end\n",
    "end\n",
    "\n",
    "scatter([x1_x, x2_x, x3_x],  [x1_y, x2_y, x3_y],m=4)\n",
    "scatter!(μx_old, μy_old)"
   ]
  },
  {
   "cell_type": "code",
   "execution_count": null,
   "metadata": {},
   "outputs": [],
   "source": [
    "plot(error_arr)"
   ]
  },
  {
   "cell_type": "code",
   "execution_count": null,
   "metadata": {},
   "outputs": [],
   "source": []
  }
 ],
 "metadata": {
  "kernelspec": {
   "display_name": "Julia 0.6.2",
   "language": "julia",
   "name": "julia-0.6"
  },
  "language_info": {
   "file_extension": ".jl",
   "mimetype": "application/julia",
   "name": "julia",
   "version": "0.6.2"
  }
 },
 "nbformat": 4,
 "nbformat_minor": 2
}
