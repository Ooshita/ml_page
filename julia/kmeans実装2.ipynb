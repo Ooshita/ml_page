{
 "cells": [
  {
   "cell_type": "code",
   "execution_count": 1,
   "metadata": {},
   "outputs": [
    {
     "data": {
      "text/plain": [
       "input_data (generic function with 1 method)"
      ]
     },
     "execution_count": 1,
     "metadata": {},
     "output_type": "execute_result"
    }
   ],
   "source": [
    "function input_data()\n",
    "    parse_data1= Float64[]\n",
    "    parse_data2 = Float64[]\n",
    "    open(\"data_1.txt\",\"r\") do fp\n",
    "        data = readlines(fp)\n",
    "        for i in 1:length(data)\n",
    "            push!(parse_data1,parse(Float64,split(data[i], \" \")[1]))\n",
    "            push!(parse_data2 ,parse(Float64,split(data[i], \" \")[2]))\n",
    "        end\n",
    "    end\n",
    "    X = [parse_data1 parse_data2]\n",
    "    return X\n",
    "end"
   ]
  },
  {
   "cell_type": "code",
   "execution_count": null,
   "metadata": {},
   "outputs": [],
   "source": [
    "X = input_data()\n",
    "k = 3 # クラスタ数\n",
    "n = 300 # Xの行数\n",
    "d = 2 #　Xの列数\n",
    "L = zeros(Float64, n, k)"
   ]
  }
 ],
 "metadata": {
  "kernelspec": {
   "display_name": "Julia 0.6.2",
   "language": "julia",
   "name": "julia-0.6"
  },
  "language_info": {
   "file_extension": ".jl",
   "mimetype": "application/julia",
   "name": "julia",
   "version": "0.6.2"
  }
 },
 "nbformat": 4,
 "nbformat_minor": 2
}
