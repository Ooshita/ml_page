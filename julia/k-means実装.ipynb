{
 "cells": [
  {
   "cell_type": "code",
   "execution_count": 2,
   "metadata": {},
   "outputs": [
    {
     "data": {
      "text/plain": [
       "input_data (generic function with 1 method)"
      ]
     },
     "execution_count": 2,
     "metadata": {},
     "output_type": "execute_result"
    }
   ],
   "source": [
    "function input_data()\n",
    "    parse_data1= Float64[]\n",
    "    parse_data2 = Float64[]\n",
    "    open(\"data_1.txt\",\"r\") do fp\n",
    "        data = readlines(fp)\n",
    "        for i in 1:length(data)\n",
    "            push!(parse_data1,parse(Float64,split(data[i], \" \")[1]))\n",
    "            push!(parse_data2 ,parse(Float64,split(data[i], \" \")[2]))\n",
    "        end\n",
    "    end\n",
    "    X = [parse_data1 parse_data2]\n",
    "    return X\n",
    "end"
   ]
  },
  {
   "cell_type": "code",
   "execution_count": 3,
   "metadata": {},
   "outputs": [
    {
     "data": {
      "text/plain": [
       "300×2 Array{Float64,2}:\n",
       " -5.62534    -6.76417\n",
       " -6.21922    -5.41678\n",
       " -4.06308    -7.91013\n",
       " -4.52609    -4.15787\n",
       " -5.08887    -7.15388\n",
       " -5.32479    -3.55313\n",
       " -3.71644    -3.9373 \n",
       " -4.96026    -4.28604\n",
       " -4.80726    -4.84573\n",
       " -6.2293     -5.45225\n",
       " -4.73248    -6.07151\n",
       " -4.57423    -4.81333\n",
       " -6.91621    -5.01012\n",
       "  ⋮                  \n",
       " -0.447324    5.24562\n",
       " -0.0852852   3.57781\n",
       "  0.508129    5.74799\n",
       " -1.07802     3.90862\n",
       " -0.212547    5.04975\n",
       "  0.655446    5.78681\n",
       " -0.59045     4.85202\n",
       "  0.481862    4.43283\n",
       " -1.22335     5.85245\n",
       "  1.05789     4.09235\n",
       "  1.2708      5.64577\n",
       " -0.772036    4.3587 "
      ]
     },
     "execution_count": 3,
     "metadata": {},
     "output_type": "execute_result"
    }
   ],
   "source": [
    "X = input_data()"
   ]
  },
  {
   "cell_type": "code",
   "execution_count": 4,
   "metadata": {},
   "outputs": [
    {
     "data": {
      "text/plain": [
       "2"
      ]
     },
     "execution_count": 4,
     "metadata": {},
     "output_type": "execute_result"
    }
   ],
   "source": [
    "k = 3 # クラスタ数\n",
    "n = 300 # Xの行数\n",
    "d = 2 #　Xの列数"
   ]
  },
  {
   "cell_type": "code",
   "execution_count": 120,
   "metadata": {},
   "outputs": [
    {
     "data": {
      "text/plain": [
       "300×3 Array{Float64,2}:\n",
       " 0.148699    0.95364    0.480492\n",
       " 0.516473    0.151907   0.661885\n",
       " 0.212333    0.715929   0.409214\n",
       " 0.518653    0.138832   0.373284\n",
       " 0.649001    0.565958   0.648208\n",
       " 0.718765    0.893589   0.428815\n",
       " 0.981687    0.930269   0.661597\n",
       " 0.674893    0.189242   0.667091\n",
       " 0.0215763   0.231874   0.577145\n",
       " 0.28569     0.0720983  0.067555\n",
       " 0.127555    0.276098   0.814065\n",
       " 0.687139    0.694765   0.769513\n",
       " 0.927122    0.135082   0.153818\n",
       " ⋮                              \n",
       " 0.0797964   0.500795   0.692922\n",
       " 0.00294805  0.745281   0.353707\n",
       " 0.882937    0.864795   0.542309\n",
       " 0.195691    0.447802   0.644494\n",
       " 0.804495    0.997868   0.804311\n",
       " 0.85558     0.313041   0.979081\n",
       " 0.24496     0.149624   0.601371\n",
       " 0.922003    0.863592   0.348914\n",
       " 0.794617    0.929624   0.674981\n",
       " 0.564221    0.821305   0.021232\n",
       " 0.875244    0.170094   0.195565\n",
       " 0.863266    0.50347    0.897792"
      ]
     },
     "execution_count": 120,
     "metadata": {},
     "output_type": "execute_result"
    }
   ],
   "source": [
    "D = rand(n,k)"
   ]
  },
  {
   "cell_type": "code",
   "execution_count": 108,
   "metadata": {},
   "outputs": [
    {
     "data": {
      "text/plain": [
       "300×3 Array{Float64,2}:\n",
       " 0.0  0.0  0.0\n",
       " 0.0  0.0  0.0\n",
       " 0.0  0.0  0.0\n",
       " 0.0  0.0  0.0\n",
       " 0.0  0.0  0.0\n",
       " 0.0  0.0  0.0\n",
       " 0.0  0.0  0.0\n",
       " 0.0  0.0  0.0\n",
       " 0.0  0.0  0.0\n",
       " 0.0  0.0  0.0\n",
       " 0.0  0.0  0.0\n",
       " 0.0  0.0  0.0\n",
       " 0.0  0.0  0.0\n",
       " ⋮            \n",
       " 0.0  0.0  0.0\n",
       " 0.0  0.0  0.0\n",
       " 0.0  0.0  0.0\n",
       " 0.0  0.0  0.0\n",
       " 0.0  0.0  0.0\n",
       " 0.0  0.0  0.0\n",
       " 0.0  0.0  0.0\n",
       " 0.0  0.0  0.0\n",
       " 0.0  0.0  0.0\n",
       " 0.0  0.0  0.0\n",
       " 0.0  0.0  0.0\n",
       " 0.0  0.0  0.0"
      ]
     },
     "execution_count": 108,
     "metadata": {},
     "output_type": "execute_result"
    }
   ],
   "source": [
    "L = zeros(Float64, n, k)"
   ]
  },
  {
   "cell_type": "code",
   "execution_count": 109,
   "metadata": {},
   "outputs": [
    {
     "data": {
      "text/plain": [
       "setLabel (generic function with 1 method)"
      ]
     },
     "execution_count": 109,
     "metadata": {},
     "output_type": "execute_result"
    }
   ],
   "source": [
    "function setLabel(D,L)\n",
    "    for i in length(3)\n",
    "        num_arr = findfirst(D,minimum(D[:, i]))\n",
    "        L[num_arr, i] = 1.0\n",
    "        #for j in length(3)\n",
    "            #L[num_arr, j] = 1.0\n",
    "        #end\n",
    "    end\n",
    "end"
   ]
  },
  {
   "cell_type": "code",
   "execution_count": 95,
   "metadata": {},
   "outputs": [
    {
     "data": {
      "text/plain": [
       "0.30605135559697993"
      ]
     },
     "execution_count": 95,
     "metadata": {},
     "output_type": "execute_result"
    }
   ],
   "source": [
    "minimum(D[:, 1])\n",
    "findfirst(D,minimum(D[:, 1]))\n",
    "D[14, 1]"
   ]
  },
  {
   "cell_type": "code",
   "execution_count": 110,
   "metadata": {},
   "outputs": [
    {
     "data": {
      "text/plain": [
       "300×2 Array{Float64,2}:\n",
       " 1.0  1.0\n",
       " 1.0  1.0\n",
       " 1.0  1.0\n",
       " 1.0  1.0\n",
       " 1.0  1.0\n",
       " 1.0  1.0\n",
       " 1.0  1.0\n",
       " 1.0  1.0\n",
       " 1.0  1.0\n",
       " 1.0  1.0\n",
       " 1.0  1.0\n",
       " 1.0  1.0\n",
       " 1.0  1.0\n",
       " ⋮       \n",
       " 1.0  1.0\n",
       " 1.0  1.0\n",
       " 1.0  1.0\n",
       " 1.0  1.0\n",
       " 1.0  1.0\n",
       " 1.0  1.0\n",
       " 1.0  1.0\n",
       " 1.0  1.0\n",
       " 1.0  1.0\n",
       " 1.0  1.0\n",
       " 1.0  1.0\n",
       " 1.0  1.0"
      ]
     },
     "execution_count": 110,
     "metadata": {},
     "output_type": "execute_result"
    }
   ],
   "source": [
    "O = ones(Float64, n, d)"
   ]
  },
  {
   "cell_type": "code",
   "execution_count": 111,
   "metadata": {},
   "outputs": [
    {
     "data": {
      "text/plain": [
       "0.0001"
      ]
     },
     "execution_count": 111,
     "metadata": {},
     "output_type": "execute_result"
    }
   ],
   "source": [
    "M = Float64[]\n",
    "global f = 10E20 # 目的関数値\n",
    "global f_save = 0.0　# 目的関数値（保存用）\n",
    "tol = 10E-5 # 許容誤差"
   ]
  },
  {
   "cell_type": "code",
   "execution_count": 146,
   "metadata": {},
   "outputs": [
    {
     "data": {
      "text/plain": [
       "k_means (generic function with 1 method)"
      ]
     },
     "execution_count": 146,
     "metadata": {},
     "output_type": "execute_result"
    }
   ],
   "source": [
    "function k_means()\n",
    "    while ((1.0 - f_save / f) > tol) || ((1.0 - f_save / f) < -tol)\n",
    "        M = inv(dot(L', L))*( L' * X)\n",
    "        global L = L*0\n",
    "        D = (-2 * X * M')+(O * (M * M)')\n",
    "        setLabel(D,L)\n",
    "        global f_save = f\n",
    "        global f = trace(L' * D)\n",
    "    end\n",
    "end"
   ]
  },
  {
   "cell_type": "code",
   "execution_count": 147,
   "metadata": {},
   "outputs": [
    {
     "data": {
      "text/plain": [
       "Inf"
      ]
     },
     "execution_count": 147,
     "metadata": {},
     "output_type": "execute_result"
    }
   ],
   "source": [
    "inv(dot(L',L))"
   ]
  },
  {
   "cell_type": "code",
   "execution_count": 148,
   "metadata": {},
   "outputs": [
    {
     "ename": "LoadError",
     "evalue": "\u001b[91mDimensionMismatch(\"A has dimensions (3,2) but B has dimensions (3,2)\")\u001b[39m",
     "output_type": "error",
     "traceback": [
      "\u001b[91mDimensionMismatch(\"A has dimensions (3,2) but B has dimensions (3,2)\")\u001b[39m",
      "",
      "Stacktrace:",
      " [1] \u001b[1mgemm_wrapper!\u001b[22m\u001b[22m\u001b[1m(\u001b[22m\u001b[22m::Array{Float64,2}, ::Char, ::Char, ::Array{Float64,2}, ::Array{Float64,2}\u001b[1m)\u001b[22m\u001b[22m at \u001b[1m./linalg/matmul.jl:345\u001b[22m\u001b[22m",
      " [2] \u001b[1m*\u001b[22m\u001b[22m\u001b[1m(\u001b[22m\u001b[22m::Array{Float64,2}, ::Array{Float64,2}\u001b[1m)\u001b[22m\u001b[22m at \u001b[1m./linalg/matmul.jl:146\u001b[22m\u001b[22m",
      " [3] \u001b[1mk_means\u001b[22m\u001b[22m\u001b[1m(\u001b[22m\u001b[22m\u001b[1m)\u001b[22m\u001b[22m at \u001b[1m./In[146]:5\u001b[22m\u001b[22m",
      " [4] \u001b[1minclude_string\u001b[22m\u001b[22m\u001b[1m(\u001b[22m\u001b[22m::String, ::String\u001b[1m)\u001b[22m\u001b[22m at \u001b[1m./loading.jl:522\u001b[22m\u001b[22m"
     ]
    }
   ],
   "source": [
    "k_means()"
   ]
  },
  {
   "cell_type": "code",
   "execution_count": 126,
   "metadata": {},
   "outputs": [
    {
     "data": {
      "text/plain": [
       "3×3 Array{Float64,2}:\n",
       " 2.0  0.0  0.0\n",
       " 0.0  0.0  0.0\n",
       " 0.0  0.0  0.0"
      ]
     },
     "execution_count": 126,
     "metadata": {},
     "output_type": "execute_result"
    }
   ],
   "source": [
    "setLabel(D,L)\n",
    "L'*L"
   ]
  },
  {
   "cell_type": "code",
   "execution_count": 105,
   "metadata": {},
   "outputs": [
    {
     "ename": "LoadError",
     "evalue": "\u001b[91mBase.LinAlg.LAPACKException(2)\u001b[39m",
     "output_type": "error",
     "traceback": [
      "\u001b[91mBase.LinAlg.LAPACKException(2)\u001b[39m",
      "",
      "Stacktrace:",
      " [1] \u001b[1mchklapackerror\u001b[22m\u001b[22m\u001b[1m(\u001b[22m\u001b[22m::Int64\u001b[1m)\u001b[22m\u001b[22m at \u001b[1m./linalg/lapack.jl:34\u001b[22m\u001b[22m",
      " [2] \u001b[1mtrtrs!\u001b[22m\u001b[22m\u001b[1m(\u001b[22m\u001b[22m::Char, ::Char, ::Char, ::Array{Float64,2}, ::Array{Float64,2}\u001b[1m)\u001b[22m\u001b[22m at \u001b[1m./linalg/lapack.jl:3291\u001b[22m\u001b[22m",
      " [3] \u001b[1minv\u001b[22m\u001b[22m at \u001b[1m./linalg/triangular.jl:536\u001b[22m\u001b[22m [inlined]",
      " [4] \u001b[1minv\u001b[22m\u001b[22m\u001b[1m(\u001b[22m\u001b[22m::Array{Float64,2}\u001b[1m)\u001b[22m\u001b[22m at \u001b[1m./linalg/dense.jl:655\u001b[22m\u001b[22m",
      " [5] \u001b[1minclude_string\u001b[22m\u001b[22m\u001b[1m(\u001b[22m\u001b[22m::String, ::String\u001b[1m)\u001b[22m\u001b[22m at \u001b[1m./loading.jl:522\u001b[22m\u001b[22m"
     ]
    }
   ],
   "source": []
  },
  {
   "cell_type": "code",
   "execution_count": null,
   "metadata": {},
   "outputs": [],
   "source": []
  },
  {
   "cell_type": "code",
   "execution_count": null,
   "metadata": {},
   "outputs": [],
   "source": []
  }
 ],
 "metadata": {
  "kernelspec": {
   "display_name": "Julia 0.6.2",
   "language": "julia",
   "name": "julia-0.6"
  },
  "language_info": {
   "file_extension": ".jl",
   "mimetype": "application/julia",
   "name": "julia",
   "version": "0.6.2"
  }
 },
 "nbformat": 4,
 "nbformat_minor": 2
}
