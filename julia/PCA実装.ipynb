{
 "cells": [
  {
   "cell_type": "code",
   "execution_count": 3,
   "metadata": {},
   "outputs": [
    {
     "data": {
      "text/plain": [
       "3-element Array{Float64,1}:\n",
       " 286.0  \n",
       " 228.889\n",
       " 747.778"
      ]
     },
     "execution_count": 3,
     "metadata": {},
     "output_type": "execute_result"
    }
   ],
   "source": [
    "X = [[70, 30, 700],[32, 60, 480],[32, 20, 300],[20, 120, 600],[40, 120, 630], [40, 30, 520], [300, 1100, 1200], [2000, 400, 1500],[40, 180, 800]]\n",
    "x_mean = sum(X)/length(X)"
   ]
  },
  {
   "cell_type": "code",
   "execution_count": 9,
   "metadata": {},
   "outputs": [
    {
     "ename": "LoadError",
     "evalue": "\u001b[91mMethodError: no method matching cov(::Array{Int64,1}, ::Float64)\u001b[0m\nClosest candidates are:\n  cov(::AbstractArray{T,1} where T) at statistics.jl:350\n  cov(::AbstractArray{T,1} where T, \u001b[91m::Bool\u001b[39m) at statistics.jl:348\n  cov(::AbstractArray{T,1} where T, \u001b[91m::AbstractArray{T,1} where T\u001b[39m) at statistics.jl:375\n  ...\u001b[39m",
     "output_type": "error",
     "traceback": [
      "\u001b[91mMethodError: no method matching cov(::Array{Int64,1}, ::Float64)\u001b[0m\nClosest candidates are:\n  cov(::AbstractArray{T,1} where T) at statistics.jl:350\n  cov(::AbstractArray{T,1} where T, \u001b[91m::Bool\u001b[39m) at statistics.jl:348\n  cov(::AbstractArray{T,1} where T, \u001b[91m::AbstractArray{T,1} where T\u001b[39m) at statistics.jl:375\n  ...\u001b[39m",
      "",
      "Stacktrace:",
      " [1] \u001b[1minclude_string\u001b[22m\u001b[22m\u001b[1m(\u001b[22m\u001b[22m::String, ::String\u001b[1m)\u001b[22m\u001b[22m at \u001b[1m./loading.jl:522\u001b[22m\u001b[22m"
     ]
    }
   ],
   "source": [
    "cov(X[1],x_mean[1])"
   ]
  },
  {
   "cell_type": "code",
   "execution_count": 18,
   "metadata": {},
   "outputs": [
    {
     "ename": "LoadError",
     "evalue": "\u001b[91mDimensionMismatch(\"arrays could not be broadcast to a common size\")\u001b[39m",
     "output_type": "error",
     "traceback": [
      "\u001b[91mDimensionMismatch(\"arrays could not be broadcast to a common size\")\u001b[39m",
      "",
      "Stacktrace:",
      " [1] \u001b[1m_bcs1\u001b[22m\u001b[22m\u001b[1m(\u001b[22m\u001b[22m::Base.OneTo{Int64}, ::Base.OneTo{Int64}\u001b[1m)\u001b[22m\u001b[22m at \u001b[1m./broadcast.jl:70\u001b[22m\u001b[22m",
      " [2] \u001b[1m_bcs\u001b[22m\u001b[22m at \u001b[1m./broadcast.jl:63\u001b[22m\u001b[22m [inlined]",
      " [3] \u001b[1mbroadcast_shape\u001b[22m\u001b[22m at \u001b[1m./broadcast.jl:57\u001b[22m\u001b[22m [inlined] (repeats 2 times)",
      " [4] \u001b[1mbroadcast_indices\u001b[22m\u001b[22m at \u001b[1m./broadcast.jl:53\u001b[22m\u001b[22m [inlined]",
      " [5] \u001b[1mbroadcast_c\u001b[22m\u001b[22m at \u001b[1m./broadcast.jl:313\u001b[22m\u001b[22m [inlined]",
      " [6] \u001b[1mbroadcast\u001b[22m\u001b[22m at \u001b[1m./broadcast.jl:455\u001b[22m\u001b[22m [inlined]",
      " [7] \u001b[1mcovm\u001b[22m\u001b[22m\u001b[1m(\u001b[22m\u001b[22m::Array{Array{Int64,1},1}, ::Array{Float64,1}, ::Bool\u001b[1m)\u001b[22m\u001b[22m at \u001b[1m./statistics.jl:332\u001b[22m\u001b[22m",
      " [8] \u001b[1mcov\u001b[22m\u001b[22m\u001b[1m(\u001b[22m\u001b[22m::Array{Array{Int64,1},1}\u001b[1m)\u001b[22m\u001b[22m at \u001b[1m./statistics.jl:350\u001b[22m\u001b[22m",
      " [9] \u001b[1minclude_string\u001b[22m\u001b[22m\u001b[1m(\u001b[22m\u001b[22m::String, ::String\u001b[1m)\u001b[22m\u001b[22m at \u001b[1m./loading.jl:522\u001b[22m\u001b[22m"
     ]
    }
   ],
   "source": [
    "cov(X)"
   ]
  },
  {
   "cell_type": "code",
   "execution_count": null,
   "metadata": {},
   "outputs": [],
   "source": []
  }
 ],
 "metadata": {
  "kernelspec": {
   "display_name": "Julia 0.6.3",
   "language": "julia",
   "name": "julia-0.6"
  },
  "language_info": {
   "file_extension": ".jl",
   "mimetype": "application/julia",
   "name": "julia",
   "version": "0.6.2"
  }
 },
 "nbformat": 4,
 "nbformat_minor": 2
}
