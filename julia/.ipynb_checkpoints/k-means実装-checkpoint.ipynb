{
 "cells": [
  {
   "cell_type": "code",
   "execution_count": 213,
   "metadata": {},
   "outputs": [
    {
     "data": {
      "text/plain": [
       "input_data (generic function with 1 method)"
      ]
     },
     "execution_count": 213,
     "metadata": {},
     "output_type": "execute_result"
    }
   ],
   "source": [
    "function input_data()\n",
    "    parse_data1= Float64[]\n",
    "    parse_data2 = Float64[]\n",
    "    open(\"data_1.txt\",\"r\") do fp\n",
    "        data = readlines(fp)\n",
    "        for i in 1:length(data)\n",
    "            push!(parse_data1,parse(Float64,split(data[i], \" \")[1]))\n",
    "            push!(parse_data2 ,parse(Float64,split(data[i], \" \")[2]))\n",
    "        end\n",
    "    end\n",
    "    X = [parse_data1 parse_data2]\n",
    "    return X\n",
    "end"
   ]
  },
  {
   "cell_type": "code",
   "execution_count": 214,
   "metadata": {},
   "outputs": [
    {
     "data": {
      "text/plain": [
       "300×2 Array{Float64,2}:\n",
       " -5.62534    -6.76417\n",
       " -6.21922    -5.41678\n",
       " -4.06308    -7.91013\n",
       " -4.52609    -4.15787\n",
       " -5.08887    -7.15388\n",
       " -5.32479    -3.55313\n",
       " -3.71644    -3.9373 \n",
       " -4.96026    -4.28604\n",
       " -4.80726    -4.84573\n",
       " -6.2293     -5.45225\n",
       " -4.73248    -6.07151\n",
       " -4.57423    -4.81333\n",
       " -6.91621    -5.01012\n",
       "  ⋮                  \n",
       " -0.447324    5.24562\n",
       " -0.0852852   3.57781\n",
       "  0.508129    5.74799\n",
       " -1.07802     3.90862\n",
       " -0.212547    5.04975\n",
       "  0.655446    5.78681\n",
       " -0.59045     4.85202\n",
       "  0.481862    4.43283\n",
       " -1.22335     5.85245\n",
       "  1.05789     4.09235\n",
       "  1.2708      5.64577\n",
       " -0.772036    4.3587 "
      ]
     },
     "execution_count": 214,
     "metadata": {},
     "output_type": "execute_result"
    }
   ],
   "source": [
    "X = input_data()"
   ]
  },
  {
   "cell_type": "code",
   "execution_count": 246,
   "metadata": {},
   "outputs": [
    {
     "data": {
      "text/plain": [
       "2"
      ]
     },
     "execution_count": 246,
     "metadata": {},
     "output_type": "execute_result"
    }
   ],
   "source": [
    "k = 3 # クラスタ数\n",
    "n = 300 # Xの行数\n",
    "d = 2 #　Xの列数"
   ]
  },
  {
   "cell_type": "code",
   "execution_count": 323,
   "metadata": {},
   "outputs": [
    {
     "data": {
      "text/plain": [
       "300×3 Array{Float64,2}:\n",
       " 0.0334038  0.952398   0.826702 \n",
       " 0.659535   0.559828   0.430725 \n",
       " 0.0542157  0.29091    0.205621 \n",
       " 0.29602    0.450004   0.953986 \n",
       " 0.988598   0.0582501  0.129451 \n",
       " 0.572595   0.720639   0.301223 \n",
       " 0.166423   0.491256   0.534953 \n",
       " 0.399981   0.615433   0.155479 \n",
       " 0.128689   0.150012   0.409228 \n",
       " 0.678781   0.47673    0.164501 \n",
       " 0.44001    0.425352   0.983555 \n",
       " 0.934304   0.321858   0.156719 \n",
       " 0.626043   0.405735   0.426335 \n",
       " ⋮                              \n",
       " 0.203908   0.645374   0.794502 \n",
       " 0.98423    0.891575   0.570736 \n",
       " 0.535477   0.544601   0.348116 \n",
       " 0.600483   0.191554   0.20274  \n",
       " 0.621981   0.674764   0.932621 \n",
       " 0.873886   0.721431   0.56655  \n",
       " 0.0282668  0.235061   0.904381 \n",
       " 0.0920408  0.0782456  0.77367  \n",
       " 0.709506   0.689894   0.633    \n",
       " 0.952489   0.399125   0.0550762\n",
       " 0.113458   0.207426   0.504343 \n",
       " 0.917418   0.770161   0.192797 "
      ]
     },
     "execution_count": 323,
     "metadata": {},
     "output_type": "execute_result"
    }
   ],
   "source": [
    "D = rand(n,k)"
   ]
  },
  {
   "cell_type": "code",
   "execution_count": 324,
   "metadata": {},
   "outputs": [
    {
     "data": {
      "text/plain": [
       "300×3 Array{Float64,2}:\n",
       " 0.0  0.0  0.0\n",
       " 0.0  0.0  0.0\n",
       " 0.0  0.0  0.0\n",
       " 0.0  0.0  0.0\n",
       " 0.0  0.0  0.0\n",
       " 0.0  0.0  0.0\n",
       " 0.0  0.0  0.0\n",
       " 0.0  0.0  0.0\n",
       " 0.0  0.0  0.0\n",
       " 0.0  0.0  0.0\n",
       " 0.0  0.0  0.0\n",
       " 0.0  0.0  0.0\n",
       " 0.0  0.0  0.0\n",
       " ⋮            \n",
       " 0.0  0.0  0.0\n",
       " 0.0  0.0  0.0\n",
       " 0.0  0.0  0.0\n",
       " 0.0  0.0  0.0\n",
       " 0.0  0.0  0.0\n",
       " 0.0  0.0  0.0\n",
       " 0.0  0.0  0.0\n",
       " 0.0  0.0  0.0\n",
       " 0.0  0.0  0.0\n",
       " 0.0  0.0  0.0\n",
       " 0.0  0.0  0.0\n",
       " 0.0  0.0  0.0"
      ]
     },
     "execution_count": 324,
     "metadata": {},
     "output_type": "execute_result"
    }
   ],
   "source": [
    "L = zeros(Float64, n, k)"
   ]
  },
  {
   "cell_type": "code",
   "execution_count": 249,
   "metadata": {},
   "outputs": [
    {
     "data": {
      "text/plain": [
       "setLabel (generic function with 1 method)"
      ]
     },
     "execution_count": 249,
     "metadata": {},
     "output_type": "execute_result"
    }
   ],
   "source": [
    "function setLabel(D,L)\n",
    "    min = Float64\n",
    "    index = 0\n",
    "    \n",
    "    for i in 1:k\n",
    "        global L[ran_num,i] = 1\n",
    "    end\n",
    "end"
   ]
  },
  {
   "cell_type": "code",
   "execution_count": 250,
   "metadata": {},
   "outputs": [
    {
     "name": "stdout",
     "output_type": "stream",
     "text": [
      "228"
     ]
    }
   ],
   "source": [
    "ran_num = rand(1:300)\n",
    "setLabel(ran_num)\n",
    "print(ran_num)"
   ]
  },
  {
   "cell_type": "code",
   "execution_count": 325,
   "metadata": {},
   "outputs": [
    {
     "data": {
      "text/plain": [
       "300×2 Array{Float64,2}:\n",
       " 1.0  1.0\n",
       " 1.0  1.0\n",
       " 1.0  1.0\n",
       " 1.0  1.0\n",
       " 1.0  1.0\n",
       " 1.0  1.0\n",
       " 1.0  1.0\n",
       " 1.0  1.0\n",
       " 1.0  1.0\n",
       " 1.0  1.0\n",
       " 1.0  1.0\n",
       " 1.0  1.0\n",
       " 1.0  1.0\n",
       " ⋮       \n",
       " 1.0  1.0\n",
       " 1.0  1.0\n",
       " 1.0  1.0\n",
       " 1.0  1.0\n",
       " 1.0  1.0\n",
       " 1.0  1.0\n",
       " 1.0  1.0\n",
       " 1.0  1.0\n",
       " 1.0  1.0\n",
       " 1.0  1.0\n",
       " 1.0  1.0\n",
       " 1.0  1.0"
      ]
     },
     "execution_count": 325,
     "metadata": {},
     "output_type": "execute_result"
    }
   ],
   "source": [
    "O = ones(Float64, n, d)"
   ]
  },
  {
   "cell_type": "code",
   "execution_count": 308,
   "metadata": {},
   "outputs": [
    {
     "data": {
      "text/plain": [
       "0.0001"
      ]
     },
     "execution_count": 308,
     "metadata": {},
     "output_type": "execute_result"
    }
   ],
   "source": [
    "M = Float64[]\n",
    "global f = 10E20 # 目的関数値\n",
    "global f_save = 0.0　# 目的関数値（保存用）\n",
    "tol = 10E-5 # 許容誤差"
   ]
  },
  {
   "cell_type": "code",
   "execution_count": 321,
   "metadata": {},
   "outputs": [
    {
     "data": {
      "text/plain": [
       "k_menas (generic function with 1 method)"
      ]
     },
     "execution_count": 321,
     "metadata": {},
     "output_type": "execute_result"
    }
   ],
   "source": [
    "function k_menas()\n",
    "    while ((1.0 - f_save / f) > tol) || ((1.0 - f_save / f) < -tol)\n",
    "        M = inv(L'* L) *( L' * X)\n",
    "        global L = L * O\n",
    "        D = -2 * X * M'+O * (M * M)'\n",
    "        global f_save = f\n",
    "        global f = trace(L' * D)\n",
    "    end\n",
    "end"
   ]
  },
  {
   "cell_type": "code",
   "execution_count": 322,
   "metadata": {},
   "outputs": [
    {
     "ename": "LoadError",
     "evalue": "\u001b[91mBase.LinAlg.LAPACKException(1)\u001b[39m",
     "output_type": "error",
     "traceback": [
      "\u001b[91mBase.LinAlg.LAPACKException(1)\u001b[39m",
      "",
      "Stacktrace:",
      " [1] \u001b[1mchklapackerror\u001b[22m\u001b[22m\u001b[1m(\u001b[22m\u001b[22m::Int64\u001b[1m)\u001b[22m\u001b[22m at \u001b[1m./linalg/lapack.jl:34\u001b[22m\u001b[22m",
      " [2] \u001b[1mtrtrs!\u001b[22m\u001b[22m\u001b[1m(\u001b[22m\u001b[22m::Char, ::Char, ::Char, ::Array{Float64,2}, ::Array{Float64,2}\u001b[1m)\u001b[22m\u001b[22m at \u001b[1m./linalg/lapack.jl:3291\u001b[22m\u001b[22m",
      " [3] \u001b[1minv\u001b[22m\u001b[22m at \u001b[1m./linalg/triangular.jl:536\u001b[22m\u001b[22m [inlined]",
      " [4] \u001b[1minv\u001b[22m\u001b[22m\u001b[1m(\u001b[22m\u001b[22m::Array{Float64,2}\u001b[1m)\u001b[22m\u001b[22m at \u001b[1m./linalg/dense.jl:655\u001b[22m\u001b[22m",
      " [5] \u001b[1mk_menas\u001b[22m\u001b[22m\u001b[1m(\u001b[22m\u001b[22m\u001b[1m)\u001b[22m\u001b[22m at \u001b[1m./In[321]:3\u001b[22m\u001b[22m",
      " [6] \u001b[1minclude_string\u001b[22m\u001b[22m\u001b[1m(\u001b[22m\u001b[22m::String, ::String\u001b[1m)\u001b[22m\u001b[22m at \u001b[1m./loading.jl:522\u001b[22m\u001b[22m"
     ]
    }
   ],
   "source": [
    "k_menas()"
   ]
  },
  {
   "cell_type": "code",
   "execution_count": 287,
   "metadata": {},
   "outputs": [
    {
     "ename": "LoadError",
     "evalue": "\u001b[91mBase.LinAlg.SingularException(2)\u001b[39m",
     "output_type": "error",
     "traceback": [
      "\u001b[91mBase.LinAlg.SingularException(2)\u001b[39m",
      "",
      "Stacktrace:",
      " [1] \u001b[1minv!\u001b[22m\u001b[22m at \u001b[1m./linalg/lu.jl:308\u001b[22m\u001b[22m [inlined]",
      " [2] \u001b[1minv\u001b[22m\u001b[22m\u001b[1m(\u001b[22m\u001b[22m::Base.LinAlg.LU{Float64,Array{Float64,2}}\u001b[1m)\u001b[22m\u001b[22m at \u001b[1m./linalg/lu.jl:310\u001b[22m\u001b[22m",
      " [3] \u001b[1minv\u001b[22m\u001b[22m\u001b[1m(\u001b[22m\u001b[22m::Array{Float64,2}\u001b[1m)\u001b[22m\u001b[22m at \u001b[1m./linalg/dense.jl:659\u001b[22m\u001b[22m",
      " [4] \u001b[1minclude_string\u001b[22m\u001b[22m\u001b[1m(\u001b[22m\u001b[22m::String, ::String\u001b[1m)\u001b[22m\u001b[22m at \u001b[1m./loading.jl:522\u001b[22m\u001b[22m"
     ]
    }
   ],
   "source": []
  },
  {
   "cell_type": "code",
   "execution_count": 174,
   "metadata": {},
   "outputs": [
    {
     "data": {
      "text/plain": [
       "2-element Array{Array{Float64,1},1}:\n",
       " [-5.62534, -6.21922, -4.06308, -4.52609, -5.08887, -5.32479, -3.71644, -4.96026, -4.80726, -6.2293  …  0.508129, -1.07802, -0.212547, 0.655446, -0.59045, 0.481862, -1.22335, 1.05789, 1.2708, -0.772036]\n",
       " [-6.76417, -5.41678, -7.91013, -4.15787, -7.15388, -3.55313, -3.9373, -4.28604, -4.84573, -5.45225  …  5.74799, 3.90862, 5.04975, 5.78681, 4.85202, 4.43283, 5.85245, 4.09235, 5.64577, 4.3587]          "
      ]
     },
     "execution_count": 174,
     "metadata": {},
     "output_type": "execute_result"
    }
   ],
   "source": [
    "X"
   ]
  },
  {
   "cell_type": "code",
   "execution_count": null,
   "metadata": {},
   "outputs": [],
   "source": []
  },
  {
   "cell_type": "code",
   "execution_count": null,
   "metadata": {},
   "outputs": [],
   "source": []
  },
  {
   "cell_type": "code",
   "execution_count": null,
   "metadata": {},
   "outputs": [],
   "source": []
  }
 ],
 "metadata": {
  "kernelspec": {
   "display_name": "Julia 0.6.2",
   "language": "julia",
   "name": "julia-0.6"
  },
  "language_info": {
   "file_extension": ".jl",
   "mimetype": "application/julia",
   "name": "julia",
   "version": "0.6.2"
  }
 },
 "nbformat": 4,
 "nbformat_minor": 2
}
