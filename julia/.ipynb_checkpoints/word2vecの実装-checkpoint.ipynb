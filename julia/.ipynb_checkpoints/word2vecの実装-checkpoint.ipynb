{
 "cells": [
  {
   "cell_type": "code",
   "execution_count": 50,
   "metadata": {},
   "outputs": [
    {
     "data": {
      "text/plain": [
       "\"セキュリティ ソフト 種類 印象 どれ No どれ 俺 ここ 種類 ウイルス ウイルス 自分 知識 稲荷 ウイルス 逆 新種 ウイルス パターン ウイルス ウイルス 新種 ウイルス 両方 イラスト ソフト 動画 ソフト 動画 ソフト テロップ 動画 作品 彼女 ポケット スマ ホ メガネ デバイス ッーン 稲荷 俺 なん それ それ 世界 メガネ デバイス 鼻 栓 デバイス 鼻 そこ 光 AR これ 彼女 彼女 立体 俺 彼女 セキュリティ ソフト ノリ クマ キャクター それ 人気 本当 俺 これ 通り 答え 誰 考え 相手 人工 知能 相手 電気 電子 機器 ローン 最新 コンピュータ 性能 ローン 中学生 社会 国会 議事堂 俺 それ 技術 家 PC ソフトウェア これ ウイルス ウェブサイト ソース コード 世界中 俺 胸 ソース コード 俺 人 人 悪意 大学 ひよっこ ソース コード 彼女 僕 それ それ 方向 兆候 読み これ 闇 稲荷 俺 バイト そっ 稲荷 自転車 颯爽 稲荷 なに ドア 鍵 母さん 鍋 声 夕飯 物 なに アンタ 感じ お袋 身の回り 稲荷 俺 調子 鬱々 サンキュー モツ 大盛り モツ やりとり あと 眠\""
      ]
     },
     "execution_count": 50,
     "metadata": {},
     "output_type": "execute_result"
    }
   ],
   "source": [
    "lines = open(\"./dataset/shosetsu1-wakati.txt\", \"r\") do fp\n",
    "    readline(fp)\n",
    "end"
   ]
  },
  {
   "cell_type": "code",
   "execution_count": 52,
   "metadata": {},
   "outputs": [
    {
     "data": {
      "text/plain": [
       "157-element Array{SubString{String},1}:\n",
       " \"セキュリティ\"\n",
       " \"ソフト\"   \n",
       " \"種類\"    \n",
       " \"印象\"    \n",
       " \"どれ\"    \n",
       " \"No\"    \n",
       " \"どれ\"    \n",
       " \"俺\"     \n",
       " \"ここ\"    \n",
       " \"種類\"    \n",
       " \"ウイルス\"  \n",
       " \"ウイルス\"  \n",
       " \"自分\"    \n",
       " ⋮       \n",
       " \"身の回り\"  \n",
       " \"稲荷\"    \n",
       " \"俺\"     \n",
       " \"調子\"    \n",
       " \"鬱々\"    \n",
       " \"サンキュー\" \n",
       " \"モツ\"    \n",
       " \"大盛り\"   \n",
       " \"モツ\"    \n",
       " \"やりとり\"  \n",
       " \"あと\"    \n",
       " \"眠\"     "
      ]
     },
     "execution_count": 52,
     "metadata": {},
     "output_type": "execute_result"
    }
   ],
   "source": [
    "word = split(lines, \" \")"
   ]
  },
  {
   "cell_type": "code",
   "execution_count": 80,
   "metadata": {},
   "outputs": [
    {
     "data": {
      "text/plain": [
       "7-element Array{SubString{String},1}:\n",
       " \"I\"         \n",
       " \"am\"        \n",
       " \"a\"         \n",
       " \"programmer\"\n",
       " \"like\"      \n",
       " \"dog\"       \n",
       " \"cat\"       "
      ]
     },
     "execution_count": 80,
     "metadata": {},
     "output_type": "execute_result"
    }
   ],
   "source": [
    "sample_text = split(\"I am a programmer like dog cat\", \" \")"
   ]
  },
  {
   "cell_type": "code",
   "execution_count": 53,
   "metadata": {},
   "outputs": [
    {
     "data": {
      "text/plain": [
       "sigmoid (generic function with 1 method)"
      ]
     },
     "execution_count": 53,
     "metadata": {},
     "output_type": "execute_result"
    }
   ],
   "source": [
    "function sigmoid(z)\n",
    "    return 1 / (1 + exp(-z))\n",
    "end"
   ]
  },
  {
   "cell_type": "code",
   "execution_count": 75,
   "metadata": {},
   "outputs": [
    {
     "data": {
      "text/plain": [
       "softmax (generic function with 1 method)"
      ]
     },
     "execution_count": 75,
     "metadata": {},
     "output_type": "execute_result"
    }
   ],
   "source": [
    "function softmax(vtw, vw)\n",
    "    sum_vtw = sum(vtw)\n",
    "    result = []\n",
    "    for i in 1:length(vtw)\n",
    "        push!(result, (exp(dot(vtw[i], vw[i])) / exp(dot(sum_vtw, vw[i]))))\n",
    "    end\n",
    "    return result\n",
    "end"
   ]
  },
  {
   "cell_type": "code",
   "execution_count": 76,
   "metadata": {},
   "outputs": [
    {
     "data": {
      "text/plain": [
       "3-element Array{Float64,1}:\n",
       " 0.2\n",
       " 2.2\n",
       " 0.4"
      ]
     },
     "execution_count": 76,
     "metadata": {},
     "output_type": "execute_result"
    }
   ],
   "source": [
    "vtw = [0.1,0.4,3.3]\n",
    "vw = [0.2,2.2,0.4]"
   ]
  },
  {
   "cell_type": "code",
   "execution_count": 79,
   "metadata": {},
   "outputs": [
    {
     "data": {
      "text/plain": [
       "3-element Array{Any,1}:\n",
       " 0.477114   \n",
       " 0.000564257\n",
       " 0.818731   "
      ]
     },
     "execution_count": 79,
     "metadata": {},
     "output_type": "execute_result"
    }
   ],
   "source": [
    "softmax(vtw',vw)"
   ]
  },
  {
   "cell_type": "code",
   "execution_count": 108,
   "metadata": {},
   "outputs": [
    {
     "data": {
      "text/plain": [
       "one_hot_vectorization (generic function with 1 method)"
      ]
     },
     "execution_count": 108,
     "metadata": {},
     "output_type": "execute_result"
    }
   ],
   "source": [
    "function one_hot_vectorization(word_array)\n",
    "    ong_hot_vec = Float64[]\n",
    "    for i in 1:length(word_array)\n",
    "        zeros_array = zeros(length(word_array))'\n",
    "        zeros_array[i] = 1.0\n",
    "        push!(one_hot_vec, zeros_array)\n",
    "    end\n",
    "    return one_hot_vec\n",
    "end"
   ]
  },
  {
   "cell_type": "code",
   "execution_count": 109,
   "metadata": {},
   "outputs": [
    {
     "ename": "LoadError",
     "evalue": "\u001b[91mUndefVarError: one_hot_vec not defined\u001b[39m",
     "output_type": "error",
     "traceback": [
      "\u001b[91mUndefVarError: one_hot_vec not defined\u001b[39m",
      "",
      "Stacktrace:",
      " [1] \u001b[1mone_hot_vectorization\u001b[22m\u001b[22m\u001b[1m(\u001b[22m\u001b[22m::Array{SubString{String},1}\u001b[1m)\u001b[22m\u001b[22m at \u001b[1m./In[108]:6\u001b[22m\u001b[22m",
      " [2] \u001b[1minclude_string\u001b[22m\u001b[22m\u001b[1m(\u001b[22m\u001b[22m::String, ::String\u001b[1m)\u001b[22m\u001b[22m at \u001b[1m./loading.jl:522\u001b[22m\u001b[22m"
     ]
    }
   ],
   "source": [
    "one_hot_vectorization(sample_text)"
   ]
  },
  {
   "cell_type": "code",
   "execution_count": 105,
   "metadata": {},
   "outputs": [
    {
     "name": "stdout",
     "output_type": "stream",
     "text": [
      "search: \u001b[1ms\u001b[22m\u001b[1mp\u001b[22m\u001b[1ml\u001b[22m\u001b[1mi\u001b[22m\u001b[1mc\u001b[22m\u001b[1me\u001b[22m\u001b[1m!\u001b[22m\n",
      "\n"
     ]
    },
    {
     "data": {
      "text/markdown": [
       "```\n",
       "splice!(a::Vector, index::Integer, [replacement]) -> item\n",
       "```\n",
       "\n",
       "Remove the item at the given index, and return the removed item. Subsequent items are shifted left to fill the resulting gap. If specified, replacement values from an ordered collection will be spliced in place of the removed item.\n",
       "\n",
       "# Examples\n",
       "\n",
       "```jldoctest splice!\n",
       "julia> A = [6, 5, 4, 3, 2, 1]; splice!(A, 5)\n",
       "2\n",
       "\n",
       "julia> A\n",
       "5-element Array{Int64,1}:\n",
       " 6\n",
       " 5\n",
       " 4\n",
       " 3\n",
       " 1\n",
       "\n",
       "julia> splice!(A, 5, -1)\n",
       "1\n",
       "\n",
       "julia> A\n",
       "5-element Array{Int64,1}:\n",
       "  6\n",
       "  5\n",
       "  4\n",
       "  3\n",
       " -1\n",
       "\n",
       "julia> splice!(A, 1, [-1, -2, -3])\n",
       "6\n",
       "\n",
       "julia> A\n",
       "7-element Array{Int64,1}:\n",
       " -1\n",
       " -2\n",
       " -3\n",
       "  5\n",
       "  4\n",
       "  3\n",
       " -1\n",
       "```\n",
       "\n",
       "To insert `replacement` before an index `n` without removing any items, use `splice!(collection, n:n-1, replacement)`.\n",
       "\n",
       "```\n",
       "splice!(a::Vector, range, [replacement]) -> items\n",
       "```\n",
       "\n",
       "Remove items in the specified index range, and return a collection containing the removed items. Subsequent items are shifted left to fill the resulting gap. If specified, replacement values from an ordered collection will be spliced in place of the removed items.\n",
       "\n",
       "To insert `replacement` before an index `n` without removing any items, use `splice!(collection, n:n-1, replacement)`.\n",
       "\n",
       "# Example\n",
       "\n",
       "```jldoctest splice!\n",
       "julia> splice!(A, 4:3, 2)\n",
       "0-element Array{Int64,1}\n",
       "\n",
       "julia> A\n",
       "8-element Array{Int64,1}:\n",
       " -1\n",
       " -2\n",
       " -3\n",
       "  2\n",
       "  5\n",
       "  4\n",
       "  3\n",
       " -1\n",
       "```\n"
      ],
      "text/plain": [
       "```\n",
       "splice!(a::Vector, index::Integer, [replacement]) -> item\n",
       "```\n",
       "\n",
       "Remove the item at the given index, and return the removed item. Subsequent items are shifted left to fill the resulting gap. If specified, replacement values from an ordered collection will be spliced in place of the removed item.\n",
       "\n",
       "# Examples\n",
       "\n",
       "```jldoctest splice!\n",
       "julia> A = [6, 5, 4, 3, 2, 1]; splice!(A, 5)\n",
       "2\n",
       "\n",
       "julia> A\n",
       "5-element Array{Int64,1}:\n",
       " 6\n",
       " 5\n",
       " 4\n",
       " 3\n",
       " 1\n",
       "\n",
       "julia> splice!(A, 5, -1)\n",
       "1\n",
       "\n",
       "julia> A\n",
       "5-element Array{Int64,1}:\n",
       "  6\n",
       "  5\n",
       "  4\n",
       "  3\n",
       " -1\n",
       "\n",
       "julia> splice!(A, 1, [-1, -2, -3])\n",
       "6\n",
       "\n",
       "julia> A\n",
       "7-element Array{Int64,1}:\n",
       " -1\n",
       " -2\n",
       " -3\n",
       "  5\n",
       "  4\n",
       "  3\n",
       " -1\n",
       "```\n",
       "\n",
       "To insert `replacement` before an index `n` without removing any items, use `splice!(collection, n:n-1, replacement)`.\n",
       "\n",
       "```\n",
       "splice!(a::Vector, range, [replacement]) -> items\n",
       "```\n",
       "\n",
       "Remove items in the specified index range, and return a collection containing the removed items. Subsequent items are shifted left to fill the resulting gap. If specified, replacement values from an ordered collection will be spliced in place of the removed items.\n",
       "\n",
       "To insert `replacement` before an index `n` without removing any items, use `splice!(collection, n:n-1, replacement)`.\n",
       "\n",
       "# Example\n",
       "\n",
       "```jldoctest splice!\n",
       "julia> splice!(A, 4:3, 2)\n",
       "0-element Array{Int64,1}\n",
       "\n",
       "julia> A\n",
       "8-element Array{Int64,1}:\n",
       " -1\n",
       " -2\n",
       " -3\n",
       "  2\n",
       "  5\n",
       "  4\n",
       "  3\n",
       " -1\n",
       "```\n"
      ]
     },
     "execution_count": 105,
     "metadata": {},
     "output_type": "execute_result"
    }
   ],
   "source": [
    "?splice!"
   ]
  },
  {
   "cell_type": "code",
   "execution_count": null,
   "metadata": {},
   "outputs": [],
   "source": []
  }
 ],
 "metadata": {
  "kernelspec": {
   "display_name": "Julia 0.6.2",
   "language": "julia",
   "name": "julia-0.6"
  },
  "language_info": {
   "file_extension": ".jl",
   "mimetype": "application/julia",
   "name": "julia",
   "version": "0.6.2"
  }
 },
 "nbformat": 4,
 "nbformat_minor": 2
}
