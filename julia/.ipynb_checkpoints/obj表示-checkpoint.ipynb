{
 "cells": [
  {
   "cell_type": "code",
   "execution_count": 9,
   "metadata": {},
   "outputs": [],
   "source": [
    "using GLVisualize"
   ]
  },
  {
   "cell_type": "code",
   "execution_count": 10,
   "metadata": {},
   "outputs": [],
   "source": [
    "using FileIO"
   ]
  },
  {
   "cell_type": "code",
   "execution_count": 11,
   "metadata": {},
   "outputs": [],
   "source": [
    "using Reactive"
   ]
  },
  {
   "cell_type": "code",
   "execution_count": 12,
   "metadata": {},
   "outputs": [],
   "source": [
    "using GLAbstraction"
   ]
  },
  {
   "cell_type": "code",
   "execution_count": 13,
   "metadata": {},
   "outputs": [],
   "source": [
    "using GeometryTypes"
   ]
  },
  {
   "cell_type": "code",
   "execution_count": 18,
   "metadata": {},
   "outputs": [],
   "source": [
    "window = glscreen()\n",
    "timesignal = loop(linspace(0f0,1f0,360))\n",
    "\n",
    "mesh = load(\"./dataset/violin_case.obj\")\n",
    "\n",
    "rotation_angle  = const_lift(*, timesignal, 2f0*pi)\n",
    "start_rotation  = Signal(rotationmatrix_x(deg2rad(90f0)))\n",
    "rotation        = map(rotationmatrix_y, rotation_angle)\n",
    "final_rotation  = map(*, start_rotation, rotation)\n",
    "# robj = visualize(mesh, model = final_rotation) #回転させる場合\n",
    "robj = visualize(mesh)\n",
    "_view(robj, window)\n",
    "renderloop(window)"
   ]
  },
  {
   "cell_type": "code",
   "execution_count": null,
   "metadata": {},
   "outputs": [],
   "source": []
  }
 ],
 "metadata": {
  "kernelspec": {
   "display_name": "Julia 0.6.2",
   "language": "julia",
   "name": "julia-0.6"
  },
  "language_info": {
   "file_extension": ".jl",
   "mimetype": "application/julia",
   "name": "julia",
   "version": "0.6.2"
  }
 },
 "nbformat": 4,
 "nbformat_minor": 2
}
