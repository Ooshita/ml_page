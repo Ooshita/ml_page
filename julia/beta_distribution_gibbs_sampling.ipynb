{
 "cells": [
  {
   "cell_type": "markdown",
   "metadata": {},
   "source": [
    "### 以下のベータ分布をギブスサンプリングで求める．"
   ]
  },
  {
   "cell_type": "code",
   "execution_count": 1,
   "metadata": {},
   "outputs": [
    {
     "data": {
      "image/png": "[encoded data removed]",
      "text/plain": [
       "PyPlot.Figure(PyObject <matplotlib.figure.Figure object at 0x11c2385c0>)"
      ]
     },
     "metadata": {},
     "output_type": "display_data",
     "source": "julia"
    },
    {
     "name": "stderr",
     "output_type": "stream",
     "text": [
      "\u001b[1m\u001b[33mWARNING: \u001b[39m\u001b[22m\u001b[33mpdf(d::UnivariateDistribution, X::AbstractArray) is deprecated, use pdf.(d, X) instead.\u001b[39m\n",
      "Stacktrace:\n",
      " [1] \u001b[1mdepwarn\u001b[22m\u001b[22m\u001b[1m(\u001b[22m\u001b[22m::String, ::Symbol\u001b[1m)\u001b[22m\u001b[22m at \u001b[1m./deprecated.jl:70\u001b[22m\u001b[22m\n",
      " [2] \u001b[1mpdf\u001b[22m\u001b[22m\u001b[1m(\u001b[22m\u001b[22m::Distributions.Beta{Float64}, ::StepRangeLen{Float64,Base.TwicePrecision{Float64},Base.TwicePrecision{Float64}}\u001b[1m)\u001b[22m\u001b[22m at \u001b[1m./deprecated.jl:57\u001b[22m\u001b[22m\n",
      " [3] \u001b[1minclude_string\u001b[22m\u001b[22m\u001b[1m(\u001b[22m\u001b[22m::String, ::String\u001b[1m)\u001b[22m\u001b[22m at \u001b[1m./loading.jl:522\u001b[22m\u001b[22m\n",
      " [4] \u001b[1minclude_string\u001b[22m\u001b[22m\u001b[1m(\u001b[22m\u001b[22m::Module, ::String, ::String\u001b[1m)\u001b[22m\u001b[22m at \u001b[1m/Users/noriakioshita/.julia/v0.6/Compat/src/Compat.jl:71\u001b[22m\u001b[22m\n",
      " [5] \u001b[1mexecute_request\u001b[22m\u001b[22m\u001b[1m(\u001b[22m\u001b[22m::ZMQ.Socket, ::IJulia.Msg\u001b[1m)\u001b[22m\u001b[22m at \u001b[1m/Users/noriakioshita/.julia/v0.6/IJulia/src/execute_request.jl:158\u001b[22m\u001b[22m\n",
      " [6] \u001b[1m(::Compat.#inner#17{Array{Any,1},IJulia.#execute_request,Tuple{ZMQ.Socket,IJulia.Msg}})\u001b[22m\u001b[22m\u001b[1m(\u001b[22m\u001b[22m\u001b[1m)\u001b[22m\u001b[22m at \u001b[1m/Users/noriakioshita/.julia/v0.6/Compat/src/Compat.jl:385\u001b[22m\u001b[22m\n",
      " [7] \u001b[1meventloop\u001b[22m\u001b[22m\u001b[1m(\u001b[22m\u001b[22m::ZMQ.Socket\u001b[1m)\u001b[22m\u001b[22m at \u001b[1m/Users/noriakioshita/.julia/v0.6/IJulia/src/eventloop.jl:8\u001b[22m\u001b[22m\n",
      " [8] \u001b[1m(::IJulia.##14#17)\u001b[22m\u001b[22m\u001b[1m(\u001b[22m\u001b[22m\u001b[1m)\u001b[22m\u001b[22m at \u001b[1m./task.jl:335\u001b[22m\u001b[22m\n",
      "while loading In[1], in expression starting on line 6\n"
     ]
    },
    {
     "data": {
      "text/plain": [
       "1-element Array{PyCall.PyObject,1}:\n",
       " PyObject <matplotlib.lines.Line2D object at 0x127c0ceb8>"
      ]
     },
     "execution_count": 1,
     "metadata": {},
     "output_type": "execute_result"
    }
   ],
   "source": [
    "using Distributions\n",
    "using PyPlot\n",
    "\n",
    "x = linspace(0, 1, 1000)\n",
    "beta = Beta(3,9)\n",
    "plot(pdf(beta,x))"
   ]
  },
  {
   "cell_type": "code",
   "execution_count": 2,
   "metadata": {},
   "outputs": [
    {
     "data": {
      "text/plain": [
       "600-element Array{Any,1}:\n",
       " ([10.0, 2.4], [3.0, 3.0])                   \n",
       " ([2.4, 2.4], [3.0, 1.92])                   \n",
       " ([2.4, 1.536], [1.92, 1.92])                \n",
       " ([1.536, 1.536], [1.92, 1.2288])            \n",
       " ([1.536, 0.98304], [1.2288, 1.2288])        \n",
       " ([0.98304, 0.98304], [1.2288, 0.786432])    \n",
       " ([0.98304, 0.629146], [0.786432, 0.786432]) \n",
       " ([0.629146, 0.629146], [0.786432, 0.573419])\n",
       " ([0.629146, 0.528838], [0.573419, 0.573419])\n",
       " ([0.528838, 0.528838], [0.573419, 0.759281])\n",
       " ([0.528838, 0.943636], [0.759281, 0.759281])\n",
       " ([0.943636, 0.943636], [0.759281, 0.754909])\n",
       " ([0.943636, 0.603927], [0.754909, 0.754909])\n",
       " ⋮                                           \n",
       " ([0.509213, 1.10361], [0.839433, 0.839433]) \n",
       " ([1.10361, 1.10361], [0.839433, 0.882887])  \n",
       " ([1.10361, 0.706309], [0.882887, 0.882887]) \n",
       " ([0.706309, 0.706309], [0.882887, 0.578716])\n",
       " ([0.706309, 0.476641], [0.578716, 0.578716])\n",
       " ([0.476641, 0.476641], [0.578716, 1.01429]) \n",
       " ([0.476641, 1.4444], [1.01429, 1.01429])    \n",
       " ([1.4444, 1.4444], [1.01429, 1.15552])      \n",
       " ([1.4444, 0.924418], [1.15552, 1.15552])    \n",
       " ([0.924418, 0.924418], [1.15552, 0.739535]) \n",
       " ([0.924418, 0.591628], [0.739535, 0.739535])\n",
       " ([0.591628, 0.591628], [0.739535, 0.607316])"
      ]
     },
     "execution_count": 2,
     "metadata": {},
     "output_type": "execute_result"
    }
   ],
   "source": [
    "srand(12345)\n",
    "ims = []\n",
    "b = 0.8 # 相関項(Correlation term)\n",
    "x = 10.0\n",
    "y = 3.0\n",
    "times = 300\n",
    "local ims = Float64[]\n",
    "\n",
    "for i = 1:times\n",
    "    u1 = rand()\n",
    "    u2 = rand()\n",
    "    x_old = x\n",
    "    x = pdf(beta,x) + b*y\n",
    "    push!(ims, ([x_old, x], [y, y])) # 表示せずに配列imsに保存\n",
    "    y_old = y\n",
    "    y = pdf(beta,x) + b*x\n",
    "    push!(ims, ([x, x], [y_old, y])) # 表示せずに配列imsに保存\n",
    "end\n",
    "\n",
    "ims"
   ]
  },
  {
   "cell_type": "markdown",
   "metadata": {},
   "source": [
    "以下のgifにするコードは黒木玄さんに書いてもらったものをそのまま代用．"
   ]
  },
  {
   "cell_type": "code",
   "execution_count": null,
   "metadata": {},
   "outputs": [],
   "source": [
    "using PyPlot\n",
    "using PyCall\n",
    "@pyimport matplotlib.animation as anim\n",
    "\n",
    "########## display file\n",
    "function displayfile(mimetype, filename)\n",
    "    open(filename) do f\n",
    "        base64text = base64encode(f)\n",
    "        display(\"text/html\", \"\"\"<img src=\"data:$mimetype;base64,$base64text\">\"\"\")\n",
    "    end\n",
    "end\n",
    "\n",
    "########## initialize the frame\n",
    "xs = [ims[i][j][1] for j in 1:2, i in 1:length(ims)]\n",
    "ys = [ims[i][j][2] for j in 1:2, i in 1:length(ims)]\n",
    "xmin, xmax = minimum(xs)-0.5, maximum(xs)+0.5\n",
    "ymin, ymax = minimum(ys)-0.5, maximum(ys)+0.5\n",
    "function initframe()\n",
    "    xlim(xmin, xmax)\n",
    "    ylim(ymin, ymax)\n",
    "    grid(ls=\":\")\n",
    "end\n",
    "\n",
    "########## update the frame\n",
    "function updateframe(t)\n",
    "    # clf() #←全部消して書き直す場合にはコメントを外す\n",
    "    #---------- フレームのアップデート開始\n",
    "    if t ≥ 1\n",
    "        X, Y = ims[t]\n",
    "        plot(X, Y, lw=1.0)\n",
    "    end\n",
    "    title(\"t = $t\")\n",
    "    #---------- フレームのアップデート終了\n",
    "    # plot() #←念のためのおまじない. []と書いてもよい. いらない場合も多い.\n",
    "end\n",
    "\n",
    "########## filename\n",
    "filename = \"gibbs_sampling.gif\"\n",
    "\n",
    "######### Construct Figure and Plot Data\n",
    "fig = figure(figsize=(6.4, 4.8))\n",
    "\n",
    "# Create the animation object by anim.FuncAnimaton\n",
    "frames = collect(0:length(ims))\n",
    "@time myanim = anim.FuncAnimation(fig, updateframe, init_func=initframe, frames=frames, interval=100)\n",
    "\n",
    "# Convert it to an animated GIF file by Imagemagick.\n",
    "@time myanim[:save](filename, writer=\"imagemagick\")\n",
    "\n",
    "sleep(0.1)\n",
    "\n",
    "# Display the movie.\n",
    "displayfile(\"image/gif\", filename)\n",
    "\n",
    "# Don't display the axes of figure().\n",
    "clf()"
   ]
  },
  {
   "cell_type": "code",
   "execution_count": null,
   "metadata": {},
   "outputs": [],
   "source": []
  }
 ],
 "metadata": {
  "kernelspec": {
   "display_name": "Julia 0.6.3",
   "language": "julia",
   "name": "julia-0.6"
  },
  "language_info": {
   "file_extension": ".jl",
   "mimetype": "application/julia",
   "name": "julia",
   "version": "0.6.3"
  }
 },
 "nbformat": 4,
 "nbformat_minor": 2
}
