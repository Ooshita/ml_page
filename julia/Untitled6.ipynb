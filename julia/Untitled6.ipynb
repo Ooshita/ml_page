{
 "cells": [
  {
   "cell_type": "code",
   "execution_count": 59,
   "metadata": {},
   "outputs": [
    {
     "data": {
      "text/latex": [
       "$$- \\frac{β}{\\sqrt{zt^{2} - β^{2}}}$$"
      ],
      "text/plain": [
       "     -β      \n",
       "─────────────\n",
       "   __________\n",
       "  ╱   2    2 \n",
       "╲╱  zt  - β  "
      ]
     },
     "execution_count": 59,
     "metadata": {},
     "output_type": "execute_result"
    }
   ],
   "source": [
    "@syms zt β\n",
    "u(zt,b) =sqrt(zt^2-β^2)"
   ]
  },
  {
   "cell_type": "code",
   "execution_count": null,
   "metadata": {},
   "outputs": [],
   "source": [
    "β = 0\n",
    "for t in 1:100\n",
    "    zt = rand()\n",
    "    gt=diff(u(zt,β),β)\n",
    "    \n",
    "end"
   ]
  }
 ],
 "metadata": {
  "kernelspec": {
   "display_name": "Julia 0.6.3",
   "language": "julia",
   "name": "julia-0.6"
  },
  "language_info": {
   "file_extension": ".jl",
   "mimetype": "application/julia",
   "name": "julia",
   "version": "0.6.3"
  }
 },
 "nbformat": 4,
 "nbformat_minor": 2
}
