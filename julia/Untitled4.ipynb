{
 "cells": [
  {
   "cell_type": "code",
   "execution_count": 97,
   "metadata": {},
   "outputs": [
    {
     "data": {
      "text/html": [
       "<?xml version=\"1.0\" encoding=\"utf-8\"?>\n",
       "<svg xmlns=\"http://www.w3.org/2000/svg\" xmlns:xlink=\"http://www.w3.org/1999/xlink\" width=\"600\" height=\"400\" viewBox=\"0 0 600 400\">\n",
       "<defs>\n",
       "  <clipPath id=\"clip3400\">\n",
       "    <rect x=\"0\" y=\"0\" width=\"600\" height=\"400\"/>\n",
       "  </clipPath>\n",
       "</defs>\n",
       "<polygon clip-path=\"url(#clip3400)\" points=\"\n",
       "0,400 600,400 600,0 0,0 \n",
       "  \" fill=\"#ffffff\" fill-opacity=\"1\"/>\n",
       "<defs>\n",
       "  <clipPath id=\"clip3401\">\n",
       "    <rect x=\"120\" y=\"0\" width=\"421\" height=\"400\"/>\n",
       "  </clipPath>\n",
       "</defs>\n",
       "<polygon clip-path=\"url(#clip3400)\" points=\"\n",
       "39.1651,375.869 580.315,375.869 580.315,11.811 39.1651,11.811 \n",
       "  \" fill=\"#ffffff\" fill-opacity=\"1\"/>\n",
       "<defs>\n",
       "  <clipPath id=\"clip3402\">\n",
       "    <rect x=\"39\" y=\"11\" width=\"542\" height=\"365\"/>\n",
       "  </clipPath>\n",
       "</defs>\n",
       "<polyline clip-path=\"url(#clip3402)\" style=\"stroke:#000000; stroke-width:0.5; stroke-opacity:0.1; fill:none\" points=\"\n",
       "  51.3511,375.869 51.3511,11.811 \n",
       "  \"/>\n",
       "<polyline clip-path=\"url(#clip3402)\" style=\"stroke:#000000; stroke-width:0.5; stroke-opacity:0.1; fill:none\" points=\"\n",
       "  180.087,375.869 180.087,11.811 \n",
       "  \"/>\n",
       "<polyline clip-path=\"url(#clip3402)\" style=\"stroke:#000000; stroke-width:0.5; stroke-opacity:0.1; fill:none\" points=\"\n",
       "  308.824,375.869 308.824,11.811 \n",
       "  \"/>\n",
       "<polyline clip-path=\"url(#clip3402)\" style=\"stroke:#000000; stroke-width:0.5; stroke-opacity:0.1; fill:none\" points=\"\n",
       "  437.56,375.869 437.56,11.811 \n",
       "  \"/>\n",
       "<polyline clip-path=\"url(#clip3402)\" style=\"stroke:#000000; stroke-width:0.5; stroke-opacity:0.1; fill:none\" points=\"\n",
       "  566.296,375.869 566.296,11.811 \n",
       "  \"/>\n",
       "<polyline clip-path=\"url(#clip3402)\" style=\"stroke:#000000; stroke-width:0.5; stroke-opacity:0.1; fill:none\" points=\"\n",
       "  39.1651,369.533 580.315,369.533 \n",
       "  \"/>\n",
       "<polyline clip-path=\"url(#clip3402)\" style=\"stroke:#000000; stroke-width:0.5; stroke-opacity:0.1; fill:none\" points=\"\n",
       "  39.1651,300.075 580.315,300.075 \n",
       "  \"/>\n",
       "<polyline clip-path=\"url(#clip3402)\" style=\"stroke:#000000; stroke-width:0.5; stroke-opacity:0.1; fill:none\" points=\"\n",
       "  39.1651,230.617 580.315,230.617 \n",
       "  \"/>\n",
       "<polyline clip-path=\"url(#clip3402)\" style=\"stroke:#000000; stroke-width:0.5; stroke-opacity:0.1; fill:none\" points=\"\n",
       "  39.1651,161.159 580.315,161.159 \n",
       "  \"/>\n",
       "<polyline clip-path=\"url(#clip3402)\" style=\"stroke:#000000; stroke-width:0.5; stroke-opacity:0.1; fill:none\" points=\"\n",
       "  39.1651,91.7009 580.315,91.7009 \n",
       "  \"/>\n",
       "<polyline clip-path=\"url(#clip3402)\" style=\"stroke:#000000; stroke-width:0.5; stroke-opacity:0.1; fill:none\" points=\"\n",
       "  39.1651,22.2429 580.315,22.2429 \n",
       "  \"/>\n",
       "<polyline clip-path=\"url(#clip3400)\" style=\"stroke:#000000; stroke-width:1; stroke-opacity:1; fill:none\" points=\"\n",
       "  39.1651,375.869 580.315,375.869 \n",
       "  \"/>\n",
       "<polyline clip-path=\"url(#clip3400)\" style=\"stroke:#000000; stroke-width:1; stroke-opacity:1; fill:none\" points=\"\n",
       "  39.1651,375.869 39.1651,11.811 \n",
       "  \"/>\n",
       "<polyline clip-path=\"url(#clip3400)\" style=\"stroke:#000000; stroke-width:1; stroke-opacity:1; fill:none\" points=\"\n",
       "  51.3511,375.869 51.3511,370.408 \n",
       "  \"/>\n",
       "<polyline clip-path=\"url(#clip3400)\" style=\"stroke:#000000; stroke-width:1; stroke-opacity:1; fill:none\" points=\"\n",
       "  180.087,375.869 180.087,370.408 \n",
       "  \"/>\n",
       "<polyline clip-path=\"url(#clip3400)\" style=\"stroke:#000000; stroke-width:1; stroke-opacity:1; fill:none\" points=\"\n",
       "  308.824,375.869 308.824,370.408 \n",
       "  \"/>\n",
       "<polyline clip-path=\"url(#clip3400)\" style=\"stroke:#000000; stroke-width:1; stroke-opacity:1; fill:none\" points=\"\n",
       "  437.56,375.869 437.56,370.408 \n",
       "  \"/>\n",
       "<polyline clip-path=\"url(#clip3400)\" style=\"stroke:#000000; stroke-width:1; stroke-opacity:1; fill:none\" points=\"\n",
       "  566.296,375.869 566.296,370.408 \n",
       "  \"/>\n",
       "<polyline clip-path=\"url(#clip3400)\" style=\"stroke:#000000; stroke-width:1; stroke-opacity:1; fill:none\" points=\"\n",
       "  39.1651,369.533 47.2823,369.533 \n",
       "  \"/>\n",
       "<polyline clip-path=\"url(#clip3400)\" style=\"stroke:#000000; stroke-width:1; stroke-opacity:1; fill:none\" points=\"\n",
       "  39.1651,300.075 47.2823,300.075 \n",
       "  \"/>\n",
       "<polyline clip-path=\"url(#clip3400)\" style=\"stroke:#000000; stroke-width:1; stroke-opacity:1; fill:none\" points=\"\n",
       "  39.1651,230.617 47.2823,230.617 \n",
       "  \"/>\n",
       "<polyline clip-path=\"url(#clip3400)\" style=\"stroke:#000000; stroke-width:1; stroke-opacity:1; fill:none\" points=\"\n",
       "  39.1651,161.159 47.2823,161.159 \n",
       "  \"/>\n",
       "<polyline clip-path=\"url(#clip3400)\" style=\"stroke:#000000; stroke-width:1; stroke-opacity:1; fill:none\" points=\"\n",
       "  39.1651,91.7009 47.2823,91.7009 \n",
       "  \"/>\n",
       "<polyline clip-path=\"url(#clip3400)\" style=\"stroke:#000000; stroke-width:1; stroke-opacity:1; fill:none\" points=\"\n",
       "  39.1651,22.2429 47.2823,22.2429 \n",
       "  \"/>\n",
       "<g clip-path=\"url(#clip3400)\">\n",
       "<text style=\"fill:#000000; fill-opacity:1; font-family:Arial,Helvetica Neue,Helvetica,sans-serif; font-size:12; text-anchor:middle;\" transform=\"rotate(0, 51.3511, 389.669)\" x=\"51.3511\" y=\"389.669\">0.0</text>\n",
       "</g>\n",
       "<g clip-path=\"url(#clip3400)\">\n",
       "<text style=\"fill:#000000; fill-opacity:1; font-family:Arial,Helvetica Neue,Helvetica,sans-serif; font-size:12; text-anchor:middle;\" transform=\"rotate(0, 180.087, 389.669)\" x=\"180.087\" y=\"389.669\">2.5</text>\n",
       "</g>\n",
       "<g clip-path=\"url(#clip3400)\">\n",
       "<text style=\"fill:#000000; fill-opacity:1; font-family:Arial,Helvetica Neue,Helvetica,sans-serif; font-size:12; text-anchor:middle;\" transform=\"rotate(0, 308.824, 389.669)\" x=\"308.824\" y=\"389.669\">5.0</text>\n",
       "</g>\n",
       "<g clip-path=\"url(#clip3400)\">\n",
       "<text style=\"fill:#000000; fill-opacity:1; font-family:Arial,Helvetica Neue,Helvetica,sans-serif; font-size:12; text-anchor:middle;\" transform=\"rotate(0, 437.56, 389.669)\" x=\"437.56\" y=\"389.669\">7.5</text>\n",
       "</g>\n",
       "<g clip-path=\"url(#clip3400)\">\n",
       "<text style=\"fill:#000000; fill-opacity:1; font-family:Arial,Helvetica Neue,Helvetica,sans-serif; font-size:12; text-anchor:middle;\" transform=\"rotate(0, 566.296, 389.669)\" x=\"566.296\" y=\"389.669\">10.0</text>\n",
       "</g>\n",
       "<g clip-path=\"url(#clip3400)\">\n",
       "<text style=\"fill:#000000; fill-opacity:1; font-family:Arial,Helvetica Neue,Helvetica,sans-serif; font-size:12; text-anchor:end;\" transform=\"rotate(0, 33.1651, 374.033)\" x=\"33.1651\" y=\"374.033\">9.0</text>\n",
       "</g>\n",
       "<g clip-path=\"url(#clip3400)\">\n",
       "<text style=\"fill:#000000; fill-opacity:1; font-family:Arial,Helvetica Neue,Helvetica,sans-serif; font-size:12; text-anchor:end;\" transform=\"rotate(0, 33.1651, 304.575)\" x=\"33.1651\" y=\"304.575\">9.5</text>\n",
       "</g>\n",
       "<g clip-path=\"url(#clip3400)\">\n",
       "<text style=\"fill:#000000; fill-opacity:1; font-family:Arial,Helvetica Neue,Helvetica,sans-serif; font-size:12; text-anchor:end;\" transform=\"rotate(0, 33.1651, 235.117)\" x=\"33.1651\" y=\"235.117\">10.0</text>\n",
       "</g>\n",
       "<g clip-path=\"url(#clip3400)\">\n",
       "<text style=\"fill:#000000; fill-opacity:1; font-family:Arial,Helvetica Neue,Helvetica,sans-serif; font-size:12; text-anchor:end;\" transform=\"rotate(0, 33.1651, 165.659)\" x=\"33.1651\" y=\"165.659\">10.5</text>\n",
       "</g>\n",
       "<g clip-path=\"url(#clip3400)\">\n",
       "<text style=\"fill:#000000; fill-opacity:1; font-family:Arial,Helvetica Neue,Helvetica,sans-serif; font-size:12; text-anchor:end;\" transform=\"rotate(0, 33.1651, 96.2009)\" x=\"33.1651\" y=\"96.2009\">11.0</text>\n",
       "</g>\n",
       "<g clip-path=\"url(#clip3400)\">\n",
       "<text style=\"fill:#000000; fill-opacity:1; font-family:Arial,Helvetica Neue,Helvetica,sans-serif; font-size:12; text-anchor:end;\" transform=\"rotate(0, 33.1651, 26.7429)\" x=\"33.1651\" y=\"26.7429\">11.5</text>\n",
       "</g>\n",
       "<circle clip-path=\"url(#clip3402)\" style=\"fill:#000000; stroke:none; fill-opacity:1\" cx=\"66.216\" cy=\"161.321\" r=\"4\"/>\n",
       "<circle clip-path=\"url(#clip3402)\" style=\"fill:#009af9; stroke:none; fill-opacity:1\" cx=\"66.216\" cy=\"161.321\" r=\"3\"/>\n",
       "<circle clip-path=\"url(#clip3402)\" style=\"fill:#000000; stroke:none; fill-opacity:1\" cx=\"191.549\" cy=\"248.963\" r=\"4\"/>\n",
       "<circle clip-path=\"url(#clip3402)\" style=\"fill:#009af9; stroke:none; fill-opacity:1\" cx=\"191.549\" cy=\"248.963\" r=\"3\"/>\n",
       "<circle clip-path=\"url(#clip3402)\" style=\"fill:#000000; stroke:none; fill-opacity:1\" cx=\"54.4806\" cy=\"109.901\" r=\"4\"/>\n",
       "<circle clip-path=\"url(#clip3402)\" style=\"fill:#009af9; stroke:none; fill-opacity:1\" cx=\"54.4806\" cy=\"109.901\" r=\"3\"/>\n",
       "<circle clip-path=\"url(#clip3402)\" style=\"fill:#000000; stroke:none; fill-opacity:1\" cx=\"468.007\" cy=\"343.322\" r=\"4\"/>\n",
       "<circle clip-path=\"url(#clip3402)\" style=\"fill:#009af9; stroke:none; fill-opacity:1\" cx=\"468.007\" cy=\"343.322\" r=\"3\"/>\n",
       "<circle clip-path=\"url(#clip3402)\" style=\"fill:#000000; stroke:none; fill-opacity:1\" cx=\"229.856\" cy=\"146.067\" r=\"4\"/>\n",
       "<circle clip-path=\"url(#clip3402)\" style=\"fill:#009af9; stroke:none; fill-opacity:1\" cx=\"229.856\" cy=\"146.067\" r=\"3\"/>\n",
       "<circle clip-path=\"url(#clip3402)\" style=\"fill:#000000; stroke:none; fill-opacity:1\" cx=\"367.568\" cy=\"189.878\" r=\"4\"/>\n",
       "<circle clip-path=\"url(#clip3402)\" style=\"fill:#009af9; stroke:none; fill-opacity:1\" cx=\"367.568\" cy=\"189.878\" r=\"3\"/>\n",
       "<circle clip-path=\"url(#clip3402)\" style=\"fill:#000000; stroke:none; fill-opacity:1\" cx=\"214.625\" cy=\"225.075\" r=\"4\"/>\n",
       "<circle clip-path=\"url(#clip3402)\" style=\"fill:#009af9; stroke:none; fill-opacity:1\" cx=\"214.625\" cy=\"225.075\" r=\"3\"/>\n",
       "<circle clip-path=\"url(#clip3402)\" style=\"fill:#000000; stroke:none; fill-opacity:1\" cx=\"457.131\" cy=\"283.068\" r=\"4\"/>\n",
       "<circle clip-path=\"url(#clip3402)\" style=\"fill:#009af9; stroke:none; fill-opacity:1\" cx=\"457.131\" cy=\"283.068\" r=\"3\"/>\n",
       "<circle clip-path=\"url(#clip3402)\" style=\"fill:#000000; stroke:none; fill-opacity:1\" cx=\"126.971\" cy=\"365.565\" r=\"4\"/>\n",
       "<circle clip-path=\"url(#clip3402)\" style=\"fill:#009af9; stroke:none; fill-opacity:1\" cx=\"126.971\" cy=\"365.565\" r=\"3\"/>\n",
       "<circle clip-path=\"url(#clip3402)\" style=\"fill:#000000; stroke:none; fill-opacity:1\" cx=\"545.807\" cy=\"129.189\" r=\"4\"/>\n",
       "<circle clip-path=\"url(#clip3402)\" style=\"fill:#009af9; stroke:none; fill-opacity:1\" cx=\"545.807\" cy=\"129.189\" r=\"3\"/>\n",
       "<circle clip-path=\"url(#clip3402)\" style=\"fill:#000000; stroke:none; fill-opacity:1\" cx=\"561.697\" cy=\"31.6127\" r=\"4\"/>\n",
       "<circle clip-path=\"url(#clip3402)\" style=\"fill:#009af9; stroke:none; fill-opacity:1\" cx=\"561.697\" cy=\"31.6127\" r=\"3\"/>\n",
       "<circle clip-path=\"url(#clip3402)\" style=\"fill:#000000; stroke:none; fill-opacity:1\" cx=\"156.112\" cy=\"322.737\" r=\"4\"/>\n",
       "<circle clip-path=\"url(#clip3402)\" style=\"fill:#009af9; stroke:none; fill-opacity:1\" cx=\"156.112\" cy=\"322.737\" r=\"3\"/>\n",
       "<circle clip-path=\"url(#clip3402)\" style=\"fill:#000000; stroke:none; fill-opacity:1\" cx=\"553.768\" cy=\"143.625\" r=\"4\"/>\n",
       "<circle clip-path=\"url(#clip3402)\" style=\"fill:#009af9; stroke:none; fill-opacity:1\" cx=\"553.768\" cy=\"143.625\" r=\"3\"/>\n",
       "<circle clip-path=\"url(#clip3402)\" style=\"fill:#000000; stroke:none; fill-opacity:1\" cx=\"353.826\" cy=\"39.4861\" r=\"4\"/>\n",
       "<circle clip-path=\"url(#clip3402)\" style=\"fill:#009af9; stroke:none; fill-opacity:1\" cx=\"353.826\" cy=\"39.4861\" r=\"3\"/>\n",
       "<circle clip-path=\"url(#clip3402)\" style=\"fill:#000000; stroke:none; fill-opacity:1\" cx=\"344.504\" cy=\"22.1145\" r=\"4\"/>\n",
       "<circle clip-path=\"url(#clip3402)\" style=\"fill:#009af9; stroke:none; fill-opacity:1\" cx=\"344.504\" cy=\"22.1145\" r=\"3\"/>\n",
       "<circle clip-path=\"url(#clip3402)\" style=\"fill:#000000; stroke:none; fill-opacity:1\" cx=\"364.17\" cy=\"198.225\" r=\"4\"/>\n",
       "<circle clip-path=\"url(#clip3402)\" style=\"fill:#009af9; stroke:none; fill-opacity:1\" cx=\"364.17\" cy=\"198.225\" r=\"3\"/>\n",
       "<circle clip-path=\"url(#clip3402)\" style=\"fill:#000000; stroke:none; fill-opacity:1\" cx=\"471.69\" cy=\"250.108\" r=\"4\"/>\n",
       "<circle clip-path=\"url(#clip3402)\" style=\"fill:#009af9; stroke:none; fill-opacity:1\" cx=\"471.69\" cy=\"250.108\" r=\"3\"/>\n",
       "<circle clip-path=\"url(#clip3402)\" style=\"fill:#000000; stroke:none; fill-opacity:1\" cx=\"552.57\" cy=\"105.264\" r=\"4\"/>\n",
       "<circle clip-path=\"url(#clip3402)\" style=\"fill:#009af9; stroke:none; fill-opacity:1\" cx=\"552.57\" cy=\"105.264\" r=\"3\"/>\n",
       "<circle clip-path=\"url(#clip3402)\" style=\"fill:#000000; stroke:none; fill-opacity:1\" cx=\"177.201\" cy=\"299.857\" r=\"4\"/>\n",
       "<circle clip-path=\"url(#clip3402)\" style=\"fill:#009af9; stroke:none; fill-opacity:1\" cx=\"177.201\" cy=\"299.857\" r=\"3\"/>\n",
       "<circle clip-path=\"url(#clip3402)\" style=\"fill:#000000; stroke:none; fill-opacity:1\" cx=\"542.502\" cy=\"99.9721\" r=\"4\"/>\n",
       "<circle clip-path=\"url(#clip3402)\" style=\"fill:#009af9; stroke:none; fill-opacity:1\" cx=\"542.502\" cy=\"99.9721\" r=\"3\"/>\n",
       "<circle clip-path=\"url(#clip3402)\" style=\"fill:#000000; stroke:none; fill-opacity:1\" cx=\"519.984\" cy=\"183.302\" r=\"4\"/>\n",
       "<circle clip-path=\"url(#clip3402)\" style=\"fill:#009af9; stroke:none; fill-opacity:1\" cx=\"519.984\" cy=\"183.302\" r=\"3\"/>\n",
       "<circle clip-path=\"url(#clip3402)\" style=\"fill:#000000; stroke:none; fill-opacity:1\" cx=\"564.999\" cy=\"143.974\" r=\"4\"/>\n",
       "<circle clip-path=\"url(#clip3402)\" style=\"fill:#009af9; stroke:none; fill-opacity:1\" cx=\"564.999\" cy=\"143.974\" r=\"3\"/>\n",
       "<circle clip-path=\"url(#clip3402)\" style=\"fill:#000000; stroke:none; fill-opacity:1\" cx=\"336.443\" cy=\"69.6077\" r=\"4\"/>\n",
       "<circle clip-path=\"url(#clip3402)\" style=\"fill:#009af9; stroke:none; fill-opacity:1\" cx=\"336.443\" cy=\"69.6077\" r=\"3\"/>\n",
       "<circle clip-path=\"url(#clip3402)\" style=\"fill:#000000; stroke:none; fill-opacity:1\" cx=\"443.618\" cy=\"246.451\" r=\"4\"/>\n",
       "<circle clip-path=\"url(#clip3402)\" style=\"fill:#009af9; stroke:none; fill-opacity:1\" cx=\"443.618\" cy=\"246.451\" r=\"3\"/>\n",
       "<circle clip-path=\"url(#clip3402)\" style=\"fill:#000000; stroke:none; fill-opacity:1\" cx=\"445.212\" cy=\"305.238\" r=\"4\"/>\n",
       "<circle clip-path=\"url(#clip3402)\" style=\"fill:#009af9; stroke:none; fill-opacity:1\" cx=\"445.212\" cy=\"305.238\" r=\"3\"/>\n",
       "<circle clip-path=\"url(#clip3402)\" style=\"fill:#000000; stroke:none; fill-opacity:1\" cx=\"56.2482\" cy=\"161.331\" r=\"4\"/>\n",
       "<circle clip-path=\"url(#clip3402)\" style=\"fill:#009af9; stroke:none; fill-opacity:1\" cx=\"56.2482\" cy=\"161.331\" r=\"3\"/>\n",
       "<circle clip-path=\"url(#clip3402)\" style=\"fill:#000000; stroke:none; fill-opacity:1\" cx=\"97.316\" cy=\"301.465\" r=\"4\"/>\n",
       "<circle clip-path=\"url(#clip3402)\" style=\"fill:#009af9; stroke:none; fill-opacity:1\" cx=\"97.316\" cy=\"301.465\" r=\"3\"/>\n",
       "<circle clip-path=\"url(#clip3402)\" style=\"fill:#000000; stroke:none; fill-opacity:1\" cx=\"375.501\" cy=\"103.141\" r=\"4\"/>\n",
       "<circle clip-path=\"url(#clip3402)\" style=\"fill:#009af9; stroke:none; fill-opacity:1\" cx=\"375.501\" cy=\"103.141\" r=\"3\"/>\n",
       "<circle clip-path=\"url(#clip3402)\" style=\"fill:#000000; stroke:none; fill-opacity:1\" cx=\"455.003\" cy=\"257.772\" r=\"4\"/>\n",
       "<circle clip-path=\"url(#clip3402)\" style=\"fill:#009af9; stroke:none; fill-opacity:1\" cx=\"455.003\" cy=\"257.772\" r=\"3\"/>\n",
       "<circle clip-path=\"url(#clip3402)\" style=\"fill:#000000; stroke:none; fill-opacity:1\" cx=\"463.917\" cy=\"345.397\" r=\"4\"/>\n",
       "<circle clip-path=\"url(#clip3402)\" style=\"fill:#009af9; stroke:none; fill-opacity:1\" cx=\"463.917\" cy=\"345.397\" r=\"3\"/>\n",
       "<polygon clip-path=\"url(#clip3400)\" points=\"\n",
       "489.608,62.931 562.315,62.931 562.315,32.691 489.608,32.691 \n",
       "  \" fill=\"#ffffff\" fill-opacity=\"1\"/>\n",
       "<polyline clip-path=\"url(#clip3400)\" style=\"stroke:#000000; stroke-width:1; stroke-opacity:1; fill:none\" points=\"\n",
       "  489.608,62.931 562.315,62.931 562.315,32.691 489.608,32.691 489.608,62.931 \n",
       "  \"/>\n",
       "<circle clip-path=\"url(#clip3400)\" style=\"fill:#000000; stroke:none; fill-opacity:1\" cx=\"516.608\" cy=\"47.811\" r=\"6\"/>\n",
       "<circle clip-path=\"url(#clip3400)\" style=\"fill:#009af9; stroke:none; fill-opacity:1\" cx=\"516.608\" cy=\"47.811\" r=\"5\"/>\n",
       "<g clip-path=\"url(#clip3400)\">\n",
       "<text style=\"fill:#000000; fill-opacity:1; font-family:Arial,Helvetica Neue,Helvetica,sans-serif; font-size:12; text-anchor:start;\" transform=\"rotate(0, 537.608, 52.311)\" x=\"537.608\" y=\"52.311\">y1</text>\n",
       "</g>\n",
       "</svg>\n"
      ]
     },
     "execution_count": 97,
     "metadata": {},
     "output_type": "execute_result"
    }
   ],
   "source": [
    "using Plots\n",
    "\n",
    "x = 10 .* rand(30)\n",
    "y = -sin.(x) +10 + rand(30)\n",
    "\n",
    "scatter(x, y)"
   ]
  },
  {
   "cell_type": "code",
   "execution_count": 98,
   "metadata": {},
   "outputs": [
    {
     "data": {
      "text/plain": [
       "30-element Array{Float64,1}:\n",
       " 10.4988 \n",
       "  9.86793\n",
       " 10.869  \n",
       "  9.18868\n",
       " 10.6086 \n",
       " 10.2933 \n",
       " 10.0399 \n",
       "  9.62243\n",
       "  9.02856\n",
       " 10.7301 \n",
       " 11.4326 \n",
       "  9.33687\n",
       " 10.6262 \n",
       "  ⋮      \n",
       "  9.50157\n",
       " 10.9405 \n",
       " 10.3406 \n",
       " 10.6237 \n",
       " 11.159  \n",
       "  9.88601\n",
       "  9.46283\n",
       " 10.4988 \n",
       "  9.48999\n",
       " 10.9176 \n",
       "  9.80452\n",
       "  9.17375"
      ]
     },
     "execution_count": 98,
     "metadata": {},
     "output_type": "execute_result"
    }
   ],
   "source": [
    "y"
   ]
  },
  {
   "cell_type": "code",
   "execution_count": 55,
   "metadata": {},
   "outputs": [
    {
     "data": {
      "text/plain": [
       "0.0194435208086672"
      ]
     },
     "execution_count": 55,
     "metadata": {},
     "output_type": "execute_result"
    }
   ],
   "source": [
    "exp(-β*sum(x[1]-x[2]))"
   ]
  },
  {
   "cell_type": "code",
   "execution_count": 116,
   "metadata": {},
   "outputs": [
    {
     "data": {
      "text/plain": [
       "0-element Array{Any,1}"
      ]
     },
     "execution_count": 116,
     "metadata": {},
     "output_type": "execute_result"
    }
   ],
   "source": [
    "β = 1\n",
    "function kernel(xi, xj)\n",
    "    exp(-β*sum(xi-xj))\n",
    "end\n",
    "N = length(x)\n",
    "K = zeros(N, N)\n",
    "\n",
    "for i in Base.product(1:N, 1:N)\n",
    "    K[i[1],i[2]] = kernel(x[i[1]], x[i[2]])\n",
    "    K[i[2],i[1]] = K[i[1],i[2]]\n",
    "end\n",
    "\n",
    "α = K^(-1)*y\n",
    "\n",
    "Y = []"
   ]
  },
  {
   "cell_type": "code",
   "execution_count": 117,
   "metadata": {},
   "outputs": [],
   "source": [
    "# カーネル回帰\n",
    "function kernel_predict(x,xj,α)\n",
    "    for i in 1:length(x)\n",
    "        push!(Y, α[i]*kernel(x[i],xj))\n",
    "    end\n",
    "    return Y\n",
    "end\n",
    "\n",
    "X_axis = collect(-3.14:0.01:3.14)\n",
    "\n",
    "Y_predict = []\n",
    "for i in 1:N\n",
    "    push!(Y_predict,kernel_predict(x, X_axis[i], α))\n",
    "end"
   ]
  },
  {
   "cell_type": "code",
   "execution_count": 118,
   "metadata": {},
   "outputs": [
    {
     "ename": "BoundsError",
     "evalue": "\u001b[91mBoundsError: attempt to access 629-element Array{Float64,1} at index [1:900]\u001b[39m",
     "output_type": "error",
     "traceback": [
      "\u001b[91mBoundsError: attempt to access 629-element Array{Float64,1} at index [1:900]\u001b[39m",
      "",
      "Stacktrace:",
      " [1] \u001b[1mthrow_boundserror\u001b[22m\u001b[22m\u001b[1m(\u001b[22m\u001b[22m::Array{Float64,1}, ::Tuple{UnitRange{Int64}}\u001b[1m)\u001b[22m\u001b[22m at \u001b[1m./abstractarray.jl:434\u001b[22m\u001b[22m",
      " [2] \u001b[1mcheckbounds\u001b[22m\u001b[22m at \u001b[1m./abstractarray.jl:362\u001b[22m\u001b[22m [inlined]",
      " [3] \u001b[1mgetindex\u001b[22m\u001b[22m\u001b[1m(\u001b[22m\u001b[22m::Array{Float64,1}, ::UnitRange{Int64}\u001b[1m)\u001b[22m\u001b[22m at \u001b[1m./array.jl:555\u001b[22m\u001b[22m",
      " [4] \u001b[1mgr_display\u001b[22m\u001b[22m\u001b[1m(\u001b[22m\u001b[22m::Plots.Subplot{Plots.GRBackend}, ::Measures.Length{:mm,Float64}, ::Measures.Length{:mm,Float64}, ::Array{Float64,1}\u001b[1m)\u001b[22m\u001b[22m at \u001b[1m/Users/noriakioshita/.julia/v0.6/Plots/src/backends/gr.jl:1048\u001b[22m\u001b[22m",
      " [5] \u001b[1mgr_display\u001b[22m\u001b[22m\u001b[1m(\u001b[22m\u001b[22m::Plots.Plot{Plots.GRBackend}, ::String\u001b[1m)\u001b[22m\u001b[22m at \u001b[1m/Users/noriakioshita/.julia/v0.6/Plots/src/backends/gr.jl:598\u001b[22m\u001b[22m",
      " [6] \u001b[1m_show\u001b[22m\u001b[22m\u001b[1m(\u001b[22m\u001b[22m::Base.AbstractIOBuffer{Array{UInt8,1}}, ::MIME{Symbol(\"image/svg+xml\")}, ::Plots.Plot{Plots.GRBackend}\u001b[1m)\u001b[22m\u001b[22m at \u001b[1m/Users/noriakioshita/.julia/v0.6/Plots/src/backends/gr.jl:1380\u001b[22m\u001b[22m",
      " [7] \u001b[1mshow\u001b[22m\u001b[22m\u001b[1m(\u001b[22m\u001b[22m::Base.AbstractIOBuffer{Array{UInt8,1}}, ::MIME{Symbol(\"image/svg+xml\")}, ::Plots.Plot{Plots.GRBackend}\u001b[1m)\u001b[22m\u001b[22m at \u001b[1m/Users/noriakioshita/.julia/v0.6/Plots/src/output.jl:208\u001b[22m\u001b[22m",
      " [8] \u001b[1mshow\u001b[22m\u001b[22m\u001b[1m(\u001b[22m\u001b[22m::Base.AbstractIOBuffer{Array{UInt8,1}}, ::MIME{Symbol(\"text/html\")}, ::Plots.Plot{Plots.GRBackend}\u001b[1m)\u001b[22m\u001b[22m at \u001b[1m/Users/noriakioshita/.julia/v0.6/Plots/src/output.jl:188\u001b[22m\u001b[22m",
      " [9] \u001b[1mshow\u001b[22m\u001b[22m\u001b[1m(\u001b[22m\u001b[22m::Base.AbstractIOBuffer{Array{UInt8,1}}, ::String, ::Plots.Plot{Plots.GRBackend}\u001b[1m)\u001b[22m\u001b[22m at \u001b[1m./multimedia.jl:39\u001b[22m\u001b[22m",
      " [10] \u001b[1m#sprint#230\u001b[22m\u001b[22m\u001b[1m(\u001b[22m\u001b[22m::Void, ::Function, ::Int64, ::Function, ::String, ::Vararg{Any,N} where N\u001b[1m)\u001b[22m\u001b[22m at \u001b[1m./strings/io.jl:66\u001b[22m\u001b[22m",
      " [11] \u001b[1mdisplay_dict\u001b[22m\u001b[22m\u001b[1m(\u001b[22m\u001b[22m::Plots.Plot{Plots.GRBackend}\u001b[1m)\u001b[22m\u001b[22m at \u001b[1m/Users/noriakioshita/.julia/v0.6/Plots/src/output.jl:272\u001b[22m\u001b[22m",
      " [12] \u001b[1m(::Compat.#inner#17{Array{Any,1},IJulia.#display_dict,Tuple{Plots.Plot{Plots.GRBackend}}})\u001b[22m\u001b[22m\u001b[1m(\u001b[22m\u001b[22m\u001b[1m)\u001b[22m\u001b[22m at \u001b[1m/Users/noriakioshita/.julia/v0.6/Compat/src/Compat.jl:385\u001b[22m\u001b[22m",
      " [13] \u001b[1mexecute_request\u001b[22m\u001b[22m\u001b[1m(\u001b[22m\u001b[22m::ZMQ.Socket, ::IJulia.Msg\u001b[1m)\u001b[22m\u001b[22m at \u001b[1m/Users/noriakioshita/.julia/v0.6/IJulia/src/execute_request.jl:186\u001b[22m\u001b[22m",
      " [14] \u001b[1m(::Compat.#inner#17{Array{Any,1},IJulia.#execute_request,Tuple{ZMQ.Socket,IJulia.Msg}})\u001b[22m\u001b[22m\u001b[1m(\u001b[22m\u001b[22m\u001b[1m)\u001b[22m\u001b[22m at \u001b[1m/Users/noriakioshita/.julia/v0.6/Compat/src/Compat.jl:385\u001b[22m\u001b[22m",
      " [15] \u001b[1meventloop\u001b[22m\u001b[22m\u001b[1m(\u001b[22m\u001b[22m::ZMQ.Socket\u001b[1m)\u001b[22m\u001b[22m at \u001b[1m/Users/noriakioshita/.julia/v0.6/IJulia/src/eventloop.jl:8\u001b[22m\u001b[22m",
      " [16] \u001b[1m(::IJulia.##14#17)\u001b[22m\u001b[22m\u001b[1m(\u001b[22m\u001b[22m\u001b[1m)\u001b[22m\u001b[22m at \u001b[1m./task.jl:335\u001b[22m\u001b[22m"
     ]
    }
   ],
   "source": [
    "plot(X_axis, Y_predict)"
   ]
  },
  {
   "cell_type": "code",
   "execution_count": 119,
   "metadata": {},
   "outputs": [
    {
     "data": {
      "text/plain": [
       "629"
      ]
     },
     "execution_count": 119,
     "metadata": {},
     "output_type": "execute_result"
    }
   ],
   "source": [
    "length(X_axis)"
   ]
  },
  {
   "cell_type": "code",
   "execution_count": 120,
   "metadata": {},
   "outputs": [
    {
     "data": {
      "text/plain": [
       "30"
      ]
     },
     "execution_count": 120,
     "metadata": {},
     "output_type": "execute_result"
    }
   ],
   "source": [
    "length(Y_predict)"
   ]
  },
  {
   "cell_type": "code",
   "execution_count": null,
   "metadata": {},
   "outputs": [],
   "source": []
  }
 ],
 "metadata": {
  "kernelspec": {
   "display_name": "Julia 0.6.3",
   "language": "julia",
   "name": "julia-0.6"
  },
  "language_info": {
   "file_extension": ".jl",
   "mimetype": "application/julia",
   "name": "julia",
   "version": "0.6.3"
  }
 },
 "nbformat": 4,
 "nbformat_minor": 2
}
