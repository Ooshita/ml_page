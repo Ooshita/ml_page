{
 "cells": [
  {
   "cell_type": "code",
   "execution_count": 3,
   "metadata": {},
   "outputs": [],
   "source": [
    "import umap\n",
    "from sklearn.datasets import load_iris\n",
    "import numpy as np\n",
    "import matplotlib.pyplot as plt\n",
    "\n",
    "iris = load_iris()\n",
    "embedding = umap.UMAP().fit_transform(iris.data)"
   ]
  },
  {
   "cell_type": "code",
   "execution_count": 7,
   "metadata": {},
   "outputs": [
    {
     "data": {
      "text/plain": [
       "<matplotlib.collections.PathCollection at 0x10eab8a58>"
      ]
     },
     "execution_count": 7,
     "metadata": {},
     "output_type": "execute_result"
    },
    {
     "data": {
      "image/png": "[encoded data removed]",
      "text/plain": [
       "<matplotlib.figure.Figure at 0x10e966358>"
      ]
     },
     "metadata": {},
     "output_type": "display_data"
    }
   ],
   "source": [
    "plt.scatter(embedding[:,0],embedding[:,1])"
   ]
  },
  {
   "cell_type": "code",
   "execution_count": 8,
   "metadata": {},
   "outputs": [
    {
     "name": "stderr",
     "output_type": "stream",
     "text": [
      "/Users/noriakioshita/.pyenv/versions/anaconda3-5.1.0/lib/python3.6/importlib/_bootstrap.py:219: RuntimeWarning: numpy.dtype size changed, may indicate binary incompatibility. Expected 96, got 88\n",
      "  return f(*args, **kwds)\n"
     ]
    }
   ],
   "source": [
    "from bokeh.plotting import figure, output_file, show\n",
    "from bokeh.models import CategoricalColorMapper, ColumnDataSource\n",
    "from bokeh.palettes import Category10\n",
    "\n",
    "import umap\n",
    "from sklearn.datasets import load_iris\n",
    "\n",
    "iris = load_iris()\n",
    "embedding = umap.UMAP(n_neighbors=50,\n",
    "                      alpha=0.5,\n",
    "                      init=\"random\",\n",
    "                      min_dist=0.001)\\\n",
    "                .fit_transform(iris.data)\n",
    "\n",
    "output_file(\"iris.html\")\n",
    "\n",
    "\n",
    "targets = [str(d) for d in iris.target_names]\n",
    "\n",
    "source = ColumnDataSource(dict(\n",
    "    x=[e[0] for e in embedding],\n",
    "    y=[e[1] for e in embedding],\n",
    "    label=[targets[d] for d in iris.target]\n",
    "))\n",
    "\n",
    "cmap = CategoricalColorMapper(factors=targets, palette=Category10[10])\n",
    "\n",
    "p = figure(title=\"Test UMAP on Iris dataset\")\n",
    "p.circle(x='x',\n",
    "         y='y',\n",
    "         source=source,\n",
    "         color={\"field\": 'label', \"transform\": cmap},\n",
    "         legend='label')\n",
    "\n",
    "show(p)"
   ]
  },
  {
   "cell_type": "code",
   "execution_count": 44,
   "metadata": {},
   "outputs": [],
   "source": [
    "from sklearn.datasets import fetch_20newsgroups_vectorized"
   ]
  },
  {
   "cell_type": "code",
   "execution_count": 45,
   "metadata": {},
   "outputs": [
    {
     "name": "stderr",
     "output_type": "stream",
     "text": [
      "Downloading 20news dataset. This may take a few minutes.\n",
      "Downloading dataset from https://ndownloader.figshare.com/files/5975967 (14 MB)\n"
     ]
    }
   ],
   "source": [
    "news = fetch_20newsgroups_vectorized()\n",
    "#embedding = umap.UMAP().fit_transform(X)"
   ]
  },
  {
   "cell_type": "code",
   "execution_count": 53,
   "metadata": {},
   "outputs": [],
   "source": [
    "fit = umap.UMAP(\n",
    "        n_neighbors=2,\n",
    "        min_dist=0.1,\n",
    "        n_components=2,\n",
    "        metric='euclidean'\n",
    "    )\n",
    "embedding = umap.UMAP().fit_transform(news.data)"
   ]
  },
  {
   "cell_type": "code",
   "execution_count": 54,
   "metadata": {},
   "outputs": [
    {
     "name": "stderr",
     "output_type": "stream",
     "text": [
      "/Users/noriakioshita/.pyenv/versions/anaconda3-5.1.0/lib/python3.6/site-packages/bokeh/models/mappers.py:82: UserWarning: Palette length does not match number of factors. ['rec.sport.hockey', 'sci.crypt', 'sci.electronics', 'sci.med', 'sci.space', 'soc.religion.christian', 'talk.politics.guns', 'talk.politics.mideast', 'talk.politics.misc', 'talk.religion.misc'] will be assigned to `nan_color` gray\n",
      "  warnings.warn(\"Palette length does not match number of factors. %s will be assigned to `nan_color` %s\" % (extra_factors, self.nan_color))\n"
     ]
    }
   ],
   "source": [
    "targets = [str(d) for d in news.target_names]\n",
    "\n",
    "source = ColumnDataSource(dict(\n",
    "    x=[e[0] for e in embedding],\n",
    "    y=[e[1] for e in embedding],\n",
    "    label=[targets[d] for d in news.target]\n",
    "))\n",
    "\n",
    "cmap = CategoricalColorMapper(factors=targets, palette=Category10[10])\n",
    "\n",
    "p = figure(title=\"Test UMAP on fetch_20newsgroups dataset\")\n",
    "p.circle(x='x',\n",
    "         y='y',\n",
    "         source=source,\n",
    "         color={\"field\": 'label', \"transform\": cmap},\n",
    "         legend='label')\n",
    "\n",
    "show(p)"
   ]
  },
  {
   "cell_type": "code",
   "execution_count": 15,
   "metadata": {},
   "outputs": [
    {
     "data": {
      "text/plain": [
       "<matplotlib.collections.PathCollection at 0x1a1bf02e10>"
      ]
     },
     "execution_count": 15,
     "metadata": {},
     "output_type": "execute_result"
    },
    {
     "data": {
      "image/png": "[encoded data removed]",
      "text/plain": [
       "<matplotlib.figure.Figure at 0x1a1bfa8320>"
      ]
     },
     "metadata": {},
     "output_type": "display_data"
    }
   ],
   "source": [
    "plt.scatter(embedding[:,0],embedding[:,1])"
   ]
  },
  {
   "cell_type": "code",
   "execution_count": 17,
   "metadata": {},
   "outputs": [
    {
     "data": {
      "text/plain": [
       "<matplotlib.collections.PathCollection at 0x1a1c000048>"
      ]
     },
     "execution_count": 17,
     "metadata": {},
     "output_type": "execute_result"
    },
    {
     "data": {
      "image/png": "[encoded data removed]",
      "text/plain": [
       "<matplotlib.figure.Figure at 0x1a1c078400>"
      ]
     },
     "metadata": {},
     "output_type": "display_data"
    }
   ],
   "source": [
    "plt.scatter(X[:,0],X[:,2])"
   ]
  },
  {
   "cell_type": "code",
   "execution_count": null,
   "metadata": {},
   "outputs": [],
   "source": []
  }
 ],
 "metadata": {
  "kernelspec": {
   "display_name": "Python 3",
   "language": "python",
   "name": "python3"
  },
  "language_info": {
   "codemirror_mode": {
    "name": "ipython",
    "version": 3
   },
   "file_extension": ".py",
   "mimetype": "text/x-python",
   "name": "python",
   "nbconvert_exporter": "python",
   "pygments_lexer": "ipython3",
   "version": "3.6.4"
  }
 },
 "nbformat": 4,
 "nbformat_minor": 2
}
