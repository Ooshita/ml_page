{
 "cells": [
  {
   "cell_type": "code",
   "execution_count": 38,
   "metadata": {},
   "outputs": [
    {
     "data": {
      "text/html": [
       "<div id=\"3dmolviewer_1517931619057623\"  style=\"position: relative; width: 640px; height: 480px\">\n",
       "<script>\n",
       "if(typeof $3Dmolpromise === 'undefined') $3Dmolpromise = $.when($.getScript('https://3dmol.csb.pitt.edu/build/3Dmol.js'))\n",
       "var viewer_1517931619057623 = null;\n",
       "$3Dmolpromise.done(function() {\n",
       "viewer_1517931619057623 = $3Dmol.createViewer($(\"#3dmolviewer_1517931619057623\"),{backgroundColor:\"white\"});\n",
       "$3Dmol.download(\"pdb:1hvr\", viewer_1517931619057623, {}, function() {\n",
       "\tviewer_1517931619057623.setStyle({\"cartoon\": {\"color\": \"red\"}});\n",
       "viewer_1517931619057623.render();\n",
       "})\n",
       "});\n",
       "</script>"
      ],
      "text/plain": [
       "<py3Dmol.view at 0x114525240>"
      ]
     },
     "execution_count": 38,
     "metadata": {},
     "output_type": "execute_result"
    }
   ],
   "source": [
    "import py3Dmol\n",
    "import random\n",
    "import  matplotlib.pyplot as plot\n",
    "view = py3Dmol.view(query='pdb:1hvr')\n",
    "view.setStyle({'cartoon':{'color':'red'}})"
   ]
  },
  {
   "cell_type": "code",
   "execution_count": 41,
   "metadata": {},
   "outputs": [
    {
     "name": "stdout",
     "output_type": "stream",
     "text": [
      "Collecting biopandas\n",
      "  Downloading biopandas-0.2.2-py3-none-any.whl\n",
      "Requirement already satisfied: numpy in /Users/noriakioshita/.pyenv/versions/anaconda3-4.0.0/lib/python3.5/site-packages (from biopandas)\n",
      "Requirement already satisfied: pandas in /Users/noriakioshita/.pyenv/versions/anaconda3-4.0.0/lib/python3.5/site-packages (from biopandas)\n",
      "Requirement already satisfied: pytz>=2011k in /Users/noriakioshita/.pyenv/versions/anaconda3-4.0.0/lib/python3.5/site-packages (from pandas->biopandas)\n",
      "Requirement already satisfied: python-dateutil>=2 in /Users/noriakioshita/.pyenv/versions/anaconda3-4.0.0/lib/python3.5/site-packages (from pandas->biopandas)\n",
      "Requirement already satisfied: six>=1.5 in /Users/noriakioshita/.pyenv/versions/anaconda3-4.0.0/lib/python3.5/site-packages (from python-dateutil>=2->pandas->biopandas)\n",
      "Installing collected packages: biopandas\n",
      "Successfully installed biopandas-0.2.2\n"
     ]
    }
   ],
   "source": [
    "!pip install biopandas"
   ]
  },
  {
   "cell_type": "code",
   "execution_count": 12,
   "metadata": {},
   "outputs": [
    {
     "name": "stderr",
     "output_type": "stream",
     "text": [
      "/Users/noriakioshita/.pyenv/versions/anaconda3-4.0.0/lib/python3.5/site-packages/MDAnalysis/topology/guessers.py:56: UserWarning: Failed to guess the mass for the following atom types: Cl\n",
      "  \"\".format(', '.join(misses)))\n"
     ]
    }
   ],
   "source": [
    "import MDAnalysis as mda\n",
    "u = mda.Universe('output.pdb')"
   ]
  },
  {
   "cell_type": "code",
   "execution_count": 39,
   "metadata": {},
   "outputs": [
    {
     "ename": "ImportError",
     "evalue": "No module named 'py3dmol'",
     "output_type": "error",
     "traceback": [
      "\u001b[0;31m---------------------------------------------------------------------------\u001b[0m",
      "\u001b[0;31mImportError\u001b[0m                               Traceback (most recent call last)",
      "\u001b[0;32m<ipython-input-39-502703adfacc>\u001b[0m in \u001b[0;36m<module>\u001b[0;34m()\u001b[0m\n\u001b[0;32m----> 1\u001b[0;31m \u001b[0;32mfrom\u001b[0m \u001b[0mpy3dmol\u001b[0m \u001b[0;32mimport\u001b[0m \u001b[0mvizinterfaces\u001b[0m \u001b[0;32mas\u001b[0m \u001b[0mp3d\u001b[0m\u001b[0;34m\u001b[0m\u001b[0m\n\u001b[0m",
      "\u001b[0;31mImportError\u001b[0m: No module named 'py3dmol'"
     ]
    }
   ],
   "source": [
    "from py3dmol import vizinterfaces as p3d"
   ]
  },
  {
   "cell_type": "code",
   "execution_count": 40,
   "metadata": {},
   "outputs": [
    {
     "ename": "NameError",
     "evalue": "name 'p3d' is not defined",
     "output_type": "error",
     "traceback": [
      "\u001b[0;31m---------------------------------------------------------------------------\u001b[0m",
      "\u001b[0;31mNameError\u001b[0m                                 Traceback (most recent call last)",
      "\u001b[0;32m<ipython-input-40-cf8441c80c3c>\u001b[0m in \u001b[0;36m<module>\u001b[0;34m()\u001b[0m\n\u001b[0;32m----> 1\u001b[0;31m \u001b[0mviz\u001b[0m \u001b[0;34m=\u001b[0m \u001b[0mp3d\u001b[0m\u001b[0;34m.\u001b[0m\u001b[0mMdaViz\u001b[0m\u001b[0;34m(\u001b[0m\u001b[0mu\u001b[0m\u001b[0;34m)\u001b[0m\u001b[0;34m\u001b[0m\u001b[0m\n\u001b[0m\u001b[1;32m      2\u001b[0m \u001b[0mviz\u001b[0m\u001b[0;34m.\u001b[0m\u001b[0mmake_animation\u001b[0m\u001b[0;34m(\u001b[0m\u001b[0;34m)\u001b[0m\u001b[0;34m\u001b[0m\u001b[0m\n",
      "\u001b[0;31mNameError\u001b[0m: name 'p3d' is not defined"
     ]
    }
   ],
   "source": [
    "viz = p3d.MdaViz(u)\n",
    "viz.make_animation()"
   ]
  },
  {
   "cell_type": "code",
   "execution_count": null,
   "metadata": {},
   "outputs": [],
   "source": []
  }
 ],
 "metadata": {
  "kernelspec": {
   "display_name": "Python 3",
   "language": "python",
   "name": "python3"
  },
  "language_info": {
   "codemirror_mode": {
    "name": "ipython",
    "version": 3
   },
   "file_extension": ".py",
   "mimetype": "text/x-python",
   "name": "python",
   "nbconvert_exporter": "python",
   "pygments_lexer": "ipython3",
   "version": "3.5.2"
  }
 },
 "nbformat": 4,
 "nbformat_minor": 2
}
