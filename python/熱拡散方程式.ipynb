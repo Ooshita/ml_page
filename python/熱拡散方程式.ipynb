{
 "cells": [
  {
   "cell_type": "code",
   "execution_count": 4,
   "metadata": {},
   "outputs": [
    {
     "data": {
      "image/png": "[encoded data removed]",
      "text/plain": [
       "<matplotlib.figure.Figure at 0x10fa0ae10>"
      ]
     },
     "metadata": {},
     "output_type": "display_data"
    }
   ],
   "source": [
    "import numpy as np\n",
    "from matplotlib import pyplot as plt\n",
    "from matplotlib import animation as animation\n",
    "from pylab import *\n",
    "\n",
    "# グローバル変数＞＜\n",
    "dx = 0.01\n",
    "dy = 0.01\n",
    "a = 0.5\n",
    "\n",
    "nx = int(1/dx)\n",
    "ny = int(1/dy)\n",
    "\n",
    "ui = np.zeros([nx, ny]) # initialize matrices\n",
    "u = np.zeros([nx, ny])\n",
    "\n",
    "def initialize_ui(condition, ui, dx, dy, nx, ny):\n",
    "    for i in range(nx):\n",
    "        for j in range(ny):\n",
    "            if condition(i, j, dx, dy):\n",
    "                ui[i, j] = 1\n",
    "\n",
    "def evolve_ts(x, im, dx2, dy2, nx, ny, dt, a):\n",
    "    global u, ui\n",
    "    u[1:-1, 1:-1] = ui[1:-1, 1:-1] + a*dt*(\n",
    "                        (ui[2:, 1:-1] - 2*ui[1:-1, 1:-1] + ui[:-2, 1:-1])/dx2\n",
    "                      + (ui[1:-1, 2:] - 2*ui[1:-1, 1:-1] + ui[1:-1, :-2])/dy2\n",
    "                    )\n",
    "    ui = np.copy(u)\n",
    "    im.set_array(ui)\n",
    "    return im,\n",
    "\n",
    "def main():\n",
    "    global u, ui, dx, dy, nx, ny\n",
    "    dx2 = dx ** 2\n",
    "    dy2 = dy ** 2\n",
    "\n",
    "    dt = dx2*dy2/(2*a*(dx2 + dy2))\n",
    "\n",
    "    condition = (lambda i, j, dx, dy:\n",
    "        (((i*dx-0.5)**2+(j*dy-0.5)**2<=0.1)\n",
    "   \n",
    "         & ( (i*dx-0.5)**2+(j*dy-0.5)**2>=.05))\n",
    "    )\n",
    "\n",
    "\n",
    "    initialize_ui(condition, ui, dx, dy, nx, ny)\n",
    "\n",
    "    fig = plt.figure()\n",
    "    img = plt.subplot(111)\n",
    "    im = img.imshow(ui, cmap=cm.hot, interpolation='nearest', origin='lower')\n",
    "    im.figure = fig\n",
    "    fig.colorbar(im)\n",
    "    ani = animation.FuncAnimation(fig, evolve_ts, 240,\n",
    "            fargs=(im, dx2, dy2, nx, ny, dt, a,),\n",
    "            blit=True, interval=50)\n",
    "    ani.save(\"diffusion.mp4\", fps=15)\n",
    "    plt.show()\n",
    "\n",
    "if __name__ == \"__main__\":\n",
    "    main()"
   ]
  },
  {
   "cell_type": "code",
   "execution_count": null,
   "metadata": {},
   "outputs": [],
   "source": []
  }
 ],
 "metadata": {
  "kernelspec": {
   "display_name": "Python 3",
   "language": "python",
   "name": "python3"
  },
  "language_info": {
   "codemirror_mode": {
    "name": "ipython",
    "version": 3
   },
   "file_extension": ".py",
   "mimetype": "text/x-python",
   "name": "python",
   "nbconvert_exporter": "python",
   "pygments_lexer": "ipython3",
   "version": "3.5.2"
  }
 },
 "nbformat": 4,
 "nbformat_minor": 2
}
