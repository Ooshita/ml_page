{
 "cells": [
  {
   "cell_type": "code",
   "execution_count": 1,
   "metadata": {},
   "outputs": [],
   "source": [
    "data.url <- \"https://raw.githubusercontent.com/iwanami-datascience/vol1/master/matsuura/example2/input/data-season.txt\"\n",
    "data <- read.csv(url(data.url))\n",
    "Y <- data$Y"
   ]
  },
  {
   "cell_type": "code",
   "execution_count": 4,
   "metadata": {},
   "outputs": [],
   "source": [
    "library(dlm)\n",
    "dlm.mod1 <- dlmModPoly(order =1, dV = 1, dW =1, m0=0, C0=1e+07)\n",
    "dlm.fit1 <- dlmFilter(Y, dlm.mod1)"
   ]
  },
  {
   "cell_type": "code",
   "execution_count": 5,
   "metadata": {},
   "outputs": [
    {
     "data": {
      "text/html": [
       "<ol class=list-inline>\n",
       "\t<li>0</li>\n",
       "\t<li>18.0729981927004</li>\n",
       "\t<li>21.8009993354334</li>\n",
       "\t<li>18.431624759211</li>\n",
       "\t<li>16.2645713376361</li>\n",
       "\t<li>16.7847272379787</li>\n",
       "</ol>\n"
      ],
      "text/latex": [
       "\\begin{enumerate*}\n",
       "\\item 0\n",
       "\\item 18.0729981927004\n",
       "\\item 21.8009993354334\n",
       "\\item 18.431624759211\n",
       "\\item 16.2645713376361\n",
       "\\item 16.7847272379787\n",
       "\\end{enumerate*}\n"
      ],
      "text/markdown": [
       "1. 0\n",
       "2. 18.0729981927004\n",
       "3. 21.8009993354334\n",
       "4. 18.431624759211\n",
       "5. 16.2645713376361\n",
       "6. 16.7847272379787\n",
       "\n",
       "\n"
      ],
      "text/plain": [
       "[1]  0.00000 18.07300 21.80100 18.43162 16.26457 16.78473"
      ]
     },
     "metadata": {},
     "output_type": "display_data"
    }
   ],
   "source": [
    "head(dlm.fit1$m)"
   ]
  },
  {
   "cell_type": "code",
   "execution_count": 6,
   "metadata": {},
   "outputs": [
    {
     "data": {
      "text/html": [
       "<ol class=list-inline>\n",
       "\t<li>18.0729981927004</li>\n",
       "\t<li>21.8009993354334</li>\n",
       "\t<li>18.431624759211</li>\n",
       "\t<li>16.2645713376361</li>\n",
       "\t<li>16.7847272379787</li>\n",
       "\t<li>20.1427916533684</li>\n",
       "</ol>\n"
      ],
      "text/latex": [
       "\\begin{enumerate*}\n",
       "\\item 18.0729981927004\n",
       "\\item 21.8009993354334\n",
       "\\item 18.431624759211\n",
       "\\item 16.2645713376361\n",
       "\\item 16.7847272379787\n",
       "\\item 20.1427916533684\n",
       "\\end{enumerate*}\n"
      ],
      "text/markdown": [
       "1. 18.0729981927004\n",
       "2. 21.8009993354334\n",
       "3. 18.431624759211\n",
       "4. 16.2645713376361\n",
       "5. 16.7847272379787\n",
       "6. 20.1427916533684\n",
       "\n",
       "\n"
      ],
      "text/plain": [
       "[1] 18.07300 21.80100 18.43162 16.26457 16.78473 20.14279"
      ]
     },
     "metadata": {},
     "output_type": "display_data"
    }
   ],
   "source": [
    "head(dropFirst(dlm.fit1$m))"
   ]
  },
  {
   "cell_type": "code",
   "execution_count": 7,
   "metadata": {},
   "outputs": [],
   "source": [
    "dlm.mod2 <- dlmModPoly(order = 1,dV = 1,dW = 5, m0 = 0, C0 = 1e+07)\n",
    "dlm.fit2 <- dlmFilter(Y, dlm.mod2)"
   ]
  },
  {
   "cell_type": "code",
   "execution_count": 15,
   "metadata": {},
   "outputs": [],
   "source": [
    "dlm.build3 <- function(par) {\n",
    "    dlmModPoly(order = 1, dV =exp(par[1]), dW = exp(par[2]))\n",
    "}"
   ]
  },
  {
   "cell_type": "code",
   "execution_count": 16,
   "metadata": {},
   "outputs": [],
   "source": [
    "dlm.mle3 <- dlmMLE(Y, parm =c(0,0), build = dlm.build3)\n",
    "dlm.mod3 <- dlm.build3(dlm.mle3$par)"
   ]
  },
  {
   "cell_type": "code",
   "execution_count": 17,
   "metadata": {},
   "outputs": [
    {
     "data": {
      "text/html": [
       "<table>\n",
       "<tbody>\n",
       "\t<tr><td>17.23128</td></tr>\n",
       "</tbody>\n",
       "</table>\n"
      ],
      "text/latex": [
       "\\begin{tabular}{l}\n",
       "\t 17.23128\\\\\n",
       "\\end{tabular}\n"
      ],
      "text/markdown": [
       "\n",
       "| 17.23128 | \n",
       "\n",
       "\n"
      ],
      "text/plain": [
       "     [,1]    \n",
       "[1,] 17.23128"
      ]
     },
     "metadata": {},
     "output_type": "display_data"
    }
   ],
   "source": [
    "V(dlm.mod3)"
   ]
  },
  {
   "cell_type": "code",
   "execution_count": 18,
   "metadata": {},
   "outputs": [
    {
     "data": {
      "text/html": [
       "<table>\n",
       "<tbody>\n",
       "\t<tr><td>0.7410732</td></tr>\n",
       "</tbody>\n",
       "</table>\n"
      ],
      "text/latex": [
       "\\begin{tabular}{l}\n",
       "\t 0.7410732\\\\\n",
       "\\end{tabular}\n"
      ],
      "text/markdown": [
       "\n",
       "| 0.7410732 | \n",
       "\n",
       "\n"
      ],
      "text/plain": [
       "     [,1]     \n",
       "[1,] 0.7410732"
      ]
     },
     "metadata": {},
     "output_type": "display_data"
    }
   ],
   "source": [
    "W(dlm.mod3)"
   ]
  },
  {
   "cell_type": "code",
   "execution_count": 19,
   "metadata": {},
   "outputs": [],
   "source": [
    "dlm.fit3 <- dlmFilter(Y, dlm.mod3)\n",
    "dlm.smt3 <- dlmSmooth(Y, dlm.mod3)"
   ]
  },
  {
   "cell_type": "code",
   "execution_count": 20,
   "metadata": {},
   "outputs": [
    {
     "data": {
      "text/html": [
       "95.7552459222854"
      ],
      "text/latex": [
       "95.7552459222854"
      ],
      "text/markdown": [
       "95.7552459222854"
      ],
      "text/plain": [
       "[1] 95.75525"
      ]
     },
     "metadata": {},
     "output_type": "display_data"
    }
   ],
   "source": [
    "dlmLL(Y, dlm.mod3)"
   ]
  },
  {
   "cell_type": "code",
   "execution_count": null,
   "metadata": {},
   "outputs": [],
   "source": []
  }
 ],
 "metadata": {
  "kernelspec": {
   "display_name": "R",
   "language": "R",
   "name": "ir"
  },
  "language_info": {
   "codemirror_mode": "r",
   "file_extension": ".r",
   "mimetype": "text/x-r-source",
   "name": "R",
   "pygments_lexer": "r",
   "version": "3.4.1"
  }
 },
 "nbformat": 4,
 "nbformat_minor": 2
}
