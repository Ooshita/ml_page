{
 "cells": [
  {
   "cell_type": "code",
   "execution_count": 7,
   "metadata": {},
   "outputs": [
    {
     "name": "stdout",
     "output_type": "stream",
     "text": [
      "error: get: unknown axes property WarpToFill\n",
      "error: called from\n",
      "    arrow3 at line 396 column 5\n",
      "error: get: unknown axes property WarpToFill\n",
      "error: called from\n",
      "    arrow3 at line 396 column 5\n",
      "error: get: unknown axes property WarpToFill\n",
      "error: called from\n",
      "    arrow3 at line 396 column 5\n",
      "error: invalid value = zbuffer\n"
     ]
    },
    {
     "name": "stderr",
     "output_type": "stream",
     "text": [
      "\u001b[0;31mno element found: line 1, column 0\n",
      "\u001b[0m"
     ]
    }
   ],
   "source": [
    "z=(0:2/99:2)'; \n",
    "t=2*pi*z; \n",
    "r=2+z;\n",
    "x=r.*cos(t); \n",
    "y=r.*sin(t);\n",
    "R=[x,y,z]; \n",
    "dR=gradient(R')';\n",
    "m=repmat(sqrt(sum(dR.*dR,2)),1,3);\n",
    "T=dR./m; \n",
    "dT=gradient(T')';\n",
    "m=repmat(sqrt(sum(dT.*dT,2)),1,3);\n",
    "N=dT./m; \n",
    "B=cross(T,N);\n",
    "plot3(x,y,z,'color',0.5*[1 1 1])\n",
    "axis([-4 4 -4 4 0 2.5])\n",
    "hold on, grid on, pbaspect([1 1 1])\n",
    "set(gca,'CameraViewAngle',7)\n",
    "plot3(0,0,0,'r'), plot3(0,0,0,'color',[0 0.5 0])\n",
    "plot3(0,0,0,'b')\n",
    "legend('Curve','Tangent','Normal','Binormal',2)\n",
    "ndx=1:4:length(x); R=R(ndx,:);\n",
    "arrow3(R,R+1.4*T(ndx,:),'r',0.9)\n",
    "arrow3(R,R+1.4*N(ndx,:),'e',0.9)\n",
    "arrow3(R,R+0.4*B(ndx,:),'b',0.9)\n",
    "hold off, view(-50,5)\n",
    "set(gcf,'renderer','zbuffer')"
   ]
  },
  {
   "cell_type": "code",
   "execution_count": null,
   "metadata": {},
   "outputs": [],
   "source": []
  }
 ],
 "metadata": {
  "kernelspec": {
   "display_name": "Octave",
   "language": "octave",
   "name": "octave"
  },
  "language_info": {
   "file_extension": ".m",
   "help_links": [
    {
     "text": "GNU Octave",
     "url": "https://www.gnu.org/software/octave/support.html"
    },
    {
     "text": "Octave Kernel",
     "url": "https://github.com/Calysto/octave_kernel"
    },
    {
     "text": "MetaKernel Magics",
     "url": "https://github.com/calysto/metakernel/blob/master/metakernel/magics/README.md"
    }
   ],
   "mimetype": "text/x-octave",
   "name": "octave",
   "version": "4.2.1"
  }
 },
 "nbformat": 4,
 "nbformat_minor": 2
}
